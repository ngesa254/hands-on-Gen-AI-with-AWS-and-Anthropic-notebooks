{
 "cells": [
  {
   "cell_type": "markdown",
   "id": "9afaaeed-1ef3-42ce-ad95-d057e95726a5",
   "metadata": {},
   "source": [
    "# Chapter 1: Basic Prompt Structure\n",
    "\n",
    "- [Lesson](#lesson)\n",
    "- [Exercises](#exercises)\n",
    "- [Example Playground](#example-playground)\n",
    "\n",
    "## Setup\n",
    "\n",
    "Run the following setup cell to load your API key and establish the `get_completion` helper function."
   ]
  },
  {
   "cell_type": "code",
   "execution_count": 3,
   "id": "b501a505-b259-4dc4-88e8-7a317772675a",
   "metadata": {
    "tags": []
   },
   "outputs": [
    {
     "name": "stdout",
     "output_type": "stream",
     "text": [
      "\u001b[31mERROR: pip's dependency resolver does not currently take into account all the packages that are installed. This behaviour is the source of the following dependency conflicts.\n",
      "sphinx 8.1.3 requires docutils<0.22,>=0.20, but you have docutils 0.16 which is incompatible.\u001b[0m\u001b[31m\n",
      "\u001b[0m"
     ]
    }
   ],
   "source": [
    "!pip install -qU langchain_community==0.0.29"
   ]
  },
  {
   "cell_type": "code",
   "execution_count": 4,
   "id": "9380326f-627f-4a52-9029-42c895f876d4",
   "metadata": {
    "tags": []
   },
   "outputs": [],
   "source": [
    "# Warning control\n",
    "import warnings\n",
    "warnings.filterwarnings('ignore')"
   ]
  },
  {
   "cell_type": "code",
   "execution_count": 5,
   "id": "daef2808-8dc7-45e1-bf0b-6f42218b60a6",
   "metadata": {
    "tags": []
   },
   "outputs": [],
   "source": [
    "import os\n",
    "from utils import get_bedrock_client, get_haiku_config, get_sonnet_config\n",
    "from langchain_community.chat_models import BedrockChat  # Changed this import"
   ]
  },
  {
   "cell_type": "code",
   "execution_count": 6,
   "id": "a099fbaa-1356-42bf-a78a-05da2955c596",
   "metadata": {
    "tags": []
   },
   "outputs": [],
   "source": [
    "bedrock_client = get_bedrock_client()\n",
    "sonnet_config = get_sonnet_config()  # Using Sonnet config\n",
    "\n",
    "# Create BedrockChat instance for CrewAI\n",
    "llm = BedrockChat(\n",
    "    client=bedrock_client,\n",
    "    model_id=\"anthropic.claude-3-sonnet-20240229-v1:0\",  # Updated model ID\n",
    "    streaming=True,\n",
    "    model_kwargs={\n",
    "        \"temperature\": sonnet_config[\"temperature\"],\n",
    "        \"top_p\": sonnet_config[\"top_p\"],\n",
    "        \"max_tokens\": sonnet_config[\"max_tokens\"],\n",
    "        \"anthropic_version\": \"bedrock-2023-05-31\"\n",
    "    }\n",
    ")\n",
    "\n",
    "# Set model name in environment if needed\n",
    "os.environ[\"MODEL_NAME\"] = \"anthropic.claude-3-sonnet-20240229-v1:0\""
   ]
  },
  {
   "cell_type": "markdown",
   "id": "5495f770-9c42-4ff3-a0bc-80f6e68876bb",
   "metadata": {},
   "source": [
    "---\n",
    "\n",
    "## Lesson\n",
    "\n",
    "Amazon Bedrock offers three APIs that can be used with Anthropic Claude models, the legacy [Text Completions API](https://docs.aws.amazon.com/bedrock/latest/userguide/model-parameters-anthropic-claude-text-completion.html) , the [Messages API](https://docs.aws.amazon.com/bedrock/latest/userguide/model-parameters-anthropic-claude-messages.html) and the current [Converse API](https://docs.aws.amazon.com/bedrock/latest/userguide/conversation-inference.html). For this tutorial, we will be exclusively using the Converse API.\n",
    "\n",
    "At minimum, a call to Claude using the Converse API requires the following parameters:\n",
    "- `modelId`: the [API model name](https://docs.aws.amazon.com/bedrock/latest/userguide/model-ids.html#model-ids-arns) of the model that you intend to call\n",
    "\n",
    "- `messages`: an array of input messages. Claude 3 models are trained to operate on alternating `user` and `assistant` conversational turns. When creating a new `Message`, you specify the prior conversational turns with the messages parameter, and the model then generates the next `Message` in the conversation.\n",
    "  - Each input message must be an object with a `role` and `content`. You can specify a single `user`-role message, or you can include multiple `user` and `assistant` messages (they must alternate, if so). **The first message must always use the `user` role.**\n",
    "  \n",
    "  You store the content for the message in the `content` field of a [(ContentBlock)](https://docs.aws.amazon.com/bedrock/latest/APIReference/API_runtime_ContentBlock.html). Specify text in the `text` field, or if supported by the model, you can also pass the raw bytes for an image in the `image` field of an [(ImageBlock)](https://docs.aws.amazon.com/bedrock/latest/APIReference/API_runtime_ImageBlock.html). The other fields in ContentBlock are for [tool use](https://docs.aws.amazon.com/bedrock/latest/userguide/tool-use.html).\n",
    "\n",
    "There are also optional parameters, such as:\n",
    "- `system`: the system prompt - more on this below.\n",
    "  \n",
    "- `temperature`: the degree of variability in Claude's response. For these lessons and exercises, we have set `temperature` to 0.\n",
    "\n",
    "- `max_tokens`: the maximum number of tokens to generate before stopping. Note that Claude may stop before reaching this maximum. This parameter only specifies the absolute maximum number of tokens to generate. Furthermore, this is a *hard* stop, meaning that it may cause Claude to stop generating mid-word or mid-sentence.\n",
    "\n",
    "For a complete list of all API parameters, visit our [API documentation](https://docs.aws.amazon.com/bedrock/latest/userguide/conversation-inference.html)."
   ]
  },
  {
   "cell_type": "markdown",
   "id": "cb3516b6-e7c6-4ab1-be26-5e530d8f02ca",
   "metadata": {},
   "source": [
    "### Examples\n",
    "\n",
    "Let's take a look at how Claude responds to some correctly-formatted prompts. For each of the following cells, run the cell (`shift+enter`), and Claude's response will appear below the block."
   ]
  },
  {
   "cell_type": "code",
   "execution_count": 7,
   "id": "0d45bf0f-d756-49a3-b1d2-4d6fab1f919b",
   "metadata": {
    "tags": []
   },
   "outputs": [],
   "source": [
    "from botocore.exceptions import ClientError  # Import ClientError for exception handling\n",
    "\n",
    "def get_completion(prompt, system_prompt=None):\n",
    "    \"\"\"\n",
    "    Helper function to get a completion from the Bedrock client.\n",
    "    \n",
    "    Args:\n",
    "        prompt (str): The user prompt to provide to the model.\n",
    "        system_prompt (str, optional): An optional system prompt to set context for the model.\n",
    "\n",
    "    Returns:\n",
    "        str: The generated response from the model.\n",
    "    \"\"\"\n",
    "    # Use existing configurations for inference and model parameters\n",
    "    inference_config = {\n",
    "        \"temperature\": 0.0,  # Minimal randomness\n",
    "        \"maxTokens\": 200  # Maximum token limit\n",
    "    }\n",
    "    additional_model_fields = {\n",
    "        \"top_p\": 1  # Full probability distribution\n",
    "    }\n",
    "\n",
    "    # Build the message structure, including system prompt in the user prompt context\n",
    "    messages = [{\"role\": \"user\", \"content\": [{\"text\": f\"{system_prompt}\\n{prompt}\" if system_prompt else prompt}]}]\n",
    "\n",
    "    # Set up the Bedrock client request\n",
    "    converse_api_params = {\n",
    "        \"modelId\": sonnet_config[\"model\"],  # Use the model ID from sonnet_config\n",
    "        \"messages\": messages,\n",
    "        \"inferenceConfig\": inference_config,\n",
    "        \"additionalModelRequestFields\": additional_model_fields\n",
    "    }\n",
    "\n",
    "    # Make the API call\n",
    "    try:\n",
    "        response = bedrock_client.converse(**converse_api_params)\n",
    "        # Extract and return the generated content\n",
    "        return response['output']['message']['content'][0]['text']\n",
    "\n",
    "    except ClientError as err:\n",
    "        print(f\"Client error occurred: {err.response['Error']['Message']}\")\n",
    "        return None\n",
    "\n",
    "    except Exception as e:\n",
    "        print(f\"An unexpected error occurred: {str(e)}\")\n",
    "        return None\n"
   ]
  },
  {
   "cell_type": "code",
   "execution_count": 8,
   "id": "66ed882f-35f8-49c4-ac4a-ed4814da23dc",
   "metadata": {
    "tags": []
   },
   "outputs": [
    {
     "name": "stdout",
     "output_type": "stream",
     "text": [
      "Hello! As an AI language model, I don't have feelings or emotions, but I'm operating properly and ready to assist you with any questions or tasks you may have. How can I help you today?\n"
     ]
    }
   ],
   "source": [
    "# Prompt\n",
    "PROMPT = \"Hi Claude, how are you?\"\n",
    "\n",
    "# Print Claude's response\n",
    "print(get_completion(PROMPT))"
   ]
  },
  {
   "cell_type": "code",
   "execution_count": 9,
   "id": "14eb105f-e821-4fd7-a47a-b3fdff755370",
   "metadata": {
    "tags": []
   },
   "outputs": [
    {
     "name": "stdout",
     "output_type": "stream",
     "text": [
      "The ocean does not have a single, uniform color. The color of the ocean can vary greatly depending on several factors:\n",
      "\n",
      "1. Water depth: The deeper the water, the darker the blue color appears. This is because the longer wavelengths of light (reds and oranges) are absorbed more quickly by the water, leaving the shorter wavelengths of blue to penetrate deeper.\n",
      "\n",
      "2. Sediments and particles: Areas with a lot of sediments or suspended particles in the water can appear more greenish, brownish, or even reddish, depending on the composition of the particles.\n",
      "\n",
      "3. Phytoplankton: The presence of microscopic plant-like organisms called phytoplankton can give the ocean a greenish tint, especially during algal blooms.\n",
      "\n",
      "4. Angle of sunlight: The angle at which sunlight hits the water surface can affect the perceived color. When the sun is directly overhead, the\n"
     ]
    }
   ],
   "source": [
    "# Prompt\n",
    "PROMPT = \"Can you tell me the color of the ocean?\"\n",
    "\n",
    "# Print Claude's response\n",
    "print(get_completion(PROMPT))"
   ]
  },
  {
   "cell_type": "code",
   "execution_count": 10,
   "id": "be8c495f-f306-4715-b904-24300036acd1",
   "metadata": {
    "tags": []
   },
   "outputs": [
    {
     "name": "stdout",
     "output_type": "stream",
     "text": [
      "Celine Dion was born on March 30, 1968.\n",
      "\n",
      "So she was born in the year 1968.\n"
     ]
    }
   ],
   "source": [
    "# Prompt\n",
    "PROMPT = \"What year was Celine Dion born in?\"\n",
    "\n",
    "# Print Claude's response\n",
    "print(get_completion(PROMPT))"
   ]
  },
  {
   "cell_type": "markdown",
   "id": "0741d442-b334-4037-8cba-406b4d20a7ab",
   "metadata": {},
   "source": [
    "Now let's take a look at some prompts that do not include the correct Converse API formatting. For these malformatted prompts, the Converse API returns an error.\n",
    "\n",
    "First, we have an example of a Converse API call that lacks `role` and `content` fields in the `messages` array."
   ]
  },
  {
   "cell_type": "code",
   "execution_count": 16,
   "id": "698492b7-c308-4068-8ed9-fd6016a20427",
   "metadata": {
    "tags": []
   },
   "outputs": [
    {
     "name": "stdout",
     "output_type": "stream",
     "text": [
      "Here are some additional facts about Celine Dion:\n",
      "\n",
      "- She was born in Charlemagne, Quebec, Canada to a large family of 14 children.\n",
      "\n",
      "- She first gained international acclaim after winning the 1988 Eurovision Song Contest representing Switzerland.\n",
      "\n",
      "- Her English-language debut album, Unison, was released in 1990 and established her as a viable pop artist in North America.\n",
      "\n",
      "- Some of her biggest hit songs include \"The Power of Love,\" \"Because You Loved Me,\" \"My Heart Will Go On\" from the movie Titanic, and \"That's the Way It Is.\"\n",
      "\n",
      "- She has won 5 Grammy Awards, including Album of the Year and Record of the Year.\n",
      "\n",
      "- From 2003 to 2007, she had a very successful residency show called A New Day... at Caesars Palace in Las Vegas.\n",
      "\n",
      "- She has been married to her manager, Rene Angelil, since 1994 until his death in 2016.\n",
      "\n",
      "- With record sales of over 200 million worldwide, she remains one of the best-selling artists of all time.\n",
      "\n",
      "- She has actively been involved in philanthropic pursuits, starting the non-profit Celine Dion Foundation in 2004.\n"
     ]
    }
   ],
   "source": [
    "# Define the conversation messages with alternating roles\n",
    "messages = [\n",
    "    {\"role\": \"user\", \"content\": [{\"text\": \"What year was Celine Dion born in?\"}]},\n",
    "    {\"role\": \"assistant\", \"content\": [{\"text\": \"Celine Dion was born on March 30, 1968. Do you need more details about her life or career?\"}]},\n",
    "    {\"role\": \"user\", \"content\": [{\"text\": \"Also, can you tell me some other facts about her?\"}]}\n",
    "]\n",
    "\n",
    "# Correct inference configuration\n",
    "inference_config = {\n",
    "    \"temperature\": sonnet_config[\"temperature\"],\n",
    "    \"topP\": sonnet_config[\"top_p\"],  # Corrected key\n",
    "    \"maxTokens\": sonnet_config[\"max_tokens\"]  # Ensure this matches your configuration\n",
    "}\n",
    "\n",
    "# Construct the request parameters\n",
    "converse_api_params = {\n",
    "    \"modelId\": \"anthropic.claude-3-sonnet-20240229-v1:0\",  # Model ID already set in environment\n",
    "    \"messages\": messages,\n",
    "    \"inferenceConfig\": inference_config\n",
    "}\n",
    "\n",
    "# Send the request to Bedrock\n",
    "try:\n",
    "    response = bedrock_client.converse(**converse_api_params)\n",
    "    \n",
    "    # Extract and print the response\n",
    "    print(response['output']['message']['content'][0]['text'])\n",
    "\n",
    "except ClientError as err:\n",
    "    print(f\"Client error occurred: {err.response['Error']['Message']}\")\n",
    "\n",
    "except Exception as e:\n",
    "    print(f\"An unexpected error occurred: {str(e)}\")\n"
   ]
  },
  {
   "cell_type": "code",
   "execution_count": null,
   "id": "98f38048-4c68-4181-a3f6-d92655e32bb5",
   "metadata": {},
   "outputs": [],
   "source": []
  }
 ],
 "metadata": {
  "kernelspec": {
   "display_name": "conda_python3",
   "language": "python",
   "name": "conda_python3"
  },
  "language_info": {
   "codemirror_mode": {
    "name": "ipython",
    "version": 3
   },
   "file_extension": ".py",
   "mimetype": "text/x-python",
   "name": "python",
   "nbconvert_exporter": "python",
   "pygments_lexer": "ipython3",
   "version": "3.10.16"
  }
 },
 "nbformat": 4,
 "nbformat_minor": 5
}
