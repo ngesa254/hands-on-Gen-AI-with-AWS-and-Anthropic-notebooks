{
 "cells": [
  {
   "cell_type": "code",
   "execution_count": 3,
   "id": "b501a505-b259-4dc4-88e8-7a317772675a",
   "metadata": {
    "tags": []
   },
   "outputs": [],
   "source": [
    "!pip install -qU langchain_community==0.0.29"
   ]
  },
  {
   "cell_type": "code",
   "execution_count": 4,
   "id": "9380326f-627f-4a52-9029-42c895f876d4",
   "metadata": {
    "tags": []
   },
   "outputs": [],
   "source": [
    "# Warning control\n",
    "import warnings\n",
    "warnings.filterwarnings('ignore')"
   ]
  },
  {
   "cell_type": "code",
   "execution_count": 6,
   "id": "daef2808-8dc7-45e1-bf0b-6f42218b60a6",
   "metadata": {
    "tags": []
   },
   "outputs": [],
   "source": [
    "import os\n",
    "from utils import get_bedrock_client, get_haiku_config, get_sonnet_config\n",
    "from langchain_community.chat_models import BedrockChat  # Changed this import"
   ]
  },
  {
   "cell_type": "code",
   "execution_count": 7,
   "id": "a099fbaa-1356-42bf-a78a-05da2955c596",
   "metadata": {
    "tags": []
   },
   "outputs": [],
   "source": [
    "bedrock_client = get_bedrock_client()\n",
    "sonnet_config = get_sonnet_config()  # Using Sonnet config\n",
    "\n",
    "# Create BedrockChat instance for CrewAI\n",
    "llm = BedrockChat(\n",
    "    client=bedrock_client,\n",
    "    model_id=\"anthropic.claude-3-sonnet-20240229-v1:0\",  # Updated model ID\n",
    "    streaming=True,\n",
    "    model_kwargs={\n",
    "        \"temperature\": sonnet_config[\"temperature\"],\n",
    "        \"top_p\": sonnet_config[\"top_p\"],\n",
    "        \"max_tokens\": sonnet_config[\"max_tokens\"],\n",
    "        \"anthropic_version\": \"bedrock-2023-05-31\"\n",
    "    }\n",
    ")\n",
    "\n",
    "# Set model name in environment if needed\n",
    "os.environ[\"MODEL_NAME\"] = \"anthropic.claude-3-sonnet-20240229-v1:0\""
   ]
  },
  {
   "cell_type": "code",
   "execution_count": null,
   "id": "ca5ac1c0-5de3-419a-a0bf-e48ef482adf1",
   "metadata": {},
   "outputs": [],
   "source": []
  }
 ],
 "metadata": {
  "kernelspec": {
   "display_name": "conda_python3",
   "language": "python",
   "name": "conda_python3"
  },
  "language_info": {
   "codemirror_mode": {
    "name": "ipython",
    "version": 3
   },
   "file_extension": ".py",
   "mimetype": "text/x-python",
   "name": "python",
   "nbconvert_exporter": "python",
   "pygments_lexer": "ipython3",
   "version": "3.10.16"
  }
 },
 "nbformat": 4,
 "nbformat_minor": 5
}
