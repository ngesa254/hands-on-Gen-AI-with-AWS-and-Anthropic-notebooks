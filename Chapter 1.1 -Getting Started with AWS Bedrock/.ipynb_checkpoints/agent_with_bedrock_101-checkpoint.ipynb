{
 "cells": [
  {
   "cell_type": "markdown",
   "id": "02f85217-4866-4874-a9b9-b24162cc8ab0",
   "metadata": {},
   "source": [
    "# CH 1: Your first agent with Amazon Bedrock"
   ]
  },
  {
   "cell_type": "code",
   "execution_count": 11,
   "id": "3d64d910-50b8-40cc-bb99-534a40a983de",
   "metadata": {
    "tags": []
   },
   "outputs": [],
   "source": [
    "from utils import get_bedrock_client, get_haiku_config, get_sonnet_config\n",
    "from langchain_aws.chat_models import ChatBedrock"
   ]
  },
  {
   "cell_type": "code",
   "execution_count": 12,
   "id": "ff2d3f05-d59e-43b5-b861-02e52fcf4c8d",
   "metadata": {
    "tags": []
   },
   "outputs": [],
   "source": [
    "bedrock_client = get_bedrock_client()\n",
    "sonnet_config = get_sonnet_config()  # Using Sonnet config\n",
    "\n",
    "# Create BedrockChat instance for CrewAI\n",
    "llm = ChatBedrock(\n",
    "    client=bedrock_client,\n",
    "    model_id=\"anthropic.claude-3-sonnet-20240229-v1:0\",  # Updated model ID\n",
    "    streaming=True,\n",
    "    model_kwargs={\n",
    "        \"temperature\": sonnet_config[\"temperature\"],\n",
    "        \"top_p\": sonnet_config[\"top_p\"],\n",
    "        \"max_tokens\": sonnet_config[\"max_tokens\"],\n",
    "        \"anthropic_version\": \"bedrock-2023-05-31\"\n",
    "    }\n",
    ")\n",
    "\n",
    "# Set model name in environment if needed\n",
    "os.environ[\"MODEL_NAME\"] = \"anthropic.claude-3-sonnet-20240229-v1:0\""
   ]
  },
  {
   "cell_type": "code",
   "execution_count": 14,
   "id": "78950d81-fea1-432b-ae18-ebb270f7ad0d",
   "metadata": {
    "tags": []
   },
   "outputs": [
    {
     "name": "stdout",
     "output_type": "stream",
     "text": [
      "Model Response:\n",
      "Here are some of the main benefits of using Safaricom's M-PESA mobile money service in Kenya:\n",
      "\n",
      "1. Convenience - M-PESA allows you to easily send and receive money, pay bills, buy goods and services directly from your mobile phone without needing to carry cash or visit a bank.\n",
      "\n",
      "2. Accessibility - With over 180,000 M-PESA agents across Kenya, it's very easy to deposit or withdraw cash from the service no matter where you are.\n",
      "\n",
      "3. Security - M-PESA is more secure than carrying cash, as the money is stored virtually associated with your phone number and secured with a PIN.\n",
      "\n",
      "4. Cost Savings - Transferring money via M-PESA is cheaper than using traditional money transfer services, especially for remote/rural areas.\n",
      "\n",
      "5. Financial Inclusion - M-PESA has allowed millions of Kenyans without bank accounts to access basic financial services conveniently.\n",
      "\n",
      "6. Ecosystem - A wide range of businesses, merchants, utilities accept M-PESA payments making it very versatile.\n",
      "\n",
      "7. Interest from M-Shwari - You can earn interest by saving money in the linked M-Shwari banking service.\n",
      "\n",
      "Overall, M-PESA's ease of use, affordability and ubiquity across Kenya has made it an extremely popular and beneficial mobile money platform.\n"
     ]
    }
   ],
   "source": [
    "# Define the input messages\n",
    "messages = [\n",
    "    {\n",
    "        \"role\": \"system\",\n",
    "        \"content\": \"You are a helpful assistant. Answer the user's query as best as you can.\"\n",
    "    },\n",
    "    {\n",
    "        \"role\": \"human\",\n",
    "        \"content\": \"What are the benefits of using Safaricom MPESA?\"\n",
    "    }\n",
    "]\n",
    "\n",
    "# Invoke the model\n",
    "response = llm.invoke(messages)\n",
    "\n",
    "# Print the response\n",
    "print(\"Model Response:\")\n",
    "print(response.content)\n"
   ]
  },
  {
   "cell_type": "markdown",
   "id": "783dac24-566c-4554-b166-6fe7a4b70d09",
   "metadata": {},
   "source": [
    "## Streaming Cell"
   ]
  },
  {
   "cell_type": "code",
   "execution_count": 17,
   "id": "d169f58e-0d8e-4cb4-a84c-41514605e13b",
   "metadata": {
    "tags": []
   },
   "outputs": [
    {
     "name": "stdout",
     "output_type": "stream",
     "text": [
      "Streaming response:\n",
      "Here is a brief summary of the given text:\n",
      "\n",
      "The text highlights how artificial intelligence (AI) is driving transformation across various industries. AI enables three key capabilities: automation of tasks, predictive analytics to make data-driven forecasts, and natural language processing to understand and generate human language. By leveraging these AI capabilities, industries can achieve greater efficiency through automating processes and better innovation by gaining insights from data analysis and language understanding."
     ]
    }
   ],
   "source": [
    "# Prepare the input messages\n",
    "messages = [\n",
    "    (\"system\", \"You are a helpful assistant that summarizes text.\"),\n",
    "    (\"human\", \"Provide a brief summary of the following text: Artificial Intelligence is transforming industries by enabling automation, predictive analytics, and natural language processing, leading to improved efficiency and innovation.\")\n",
    "]\n",
    "\n",
    "# Use the `stream` method for event streaming\n",
    "print(\"Streaming response:\")\n",
    "for chunk in llm.stream(messages):\n",
    "    # Directly print the content if it is a string\n",
    "    if isinstance(chunk.content, str):\n",
    "        print(chunk.content, end=\"\")\n"
   ]
  },
  {
   "cell_type": "code",
   "execution_count": null,
   "id": "c63cad1f-474d-40f6-b841-0469aaa4f474",
   "metadata": {},
   "outputs": [],
   "source": []
  }
 ],
 "metadata": {
  "kernelspec": {
   "display_name": "Python (bedrock101_env)",
   "language": "python",
   "name": "bedrock101_env"
  },
  "language_info": {
   "codemirror_mode": {
    "name": "ipython",
    "version": 3
   },
   "file_extension": ".py",
   "mimetype": "text/x-python",
   "name": "python",
   "nbconvert_exporter": "python",
   "pygments_lexer": "ipython3",
   "version": "3.10.8"
  }
 },
 "nbformat": 4,
 "nbformat_minor": 5
}
