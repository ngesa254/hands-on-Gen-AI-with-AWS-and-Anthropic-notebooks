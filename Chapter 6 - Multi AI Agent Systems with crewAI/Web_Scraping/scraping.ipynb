{
 "cells": [
  {
   "cell_type": "code",
   "execution_count": 1,
   "id": "475a0698-4b7e-46d3-a900-a00aeb75ae35",
   "metadata": {
    "tags": []
   },
   "outputs": [],
   "source": [
    "import boto3\n",
    "from llama_index.llms.bedrock import Bedrock\n",
    "instruct_mistral7b_id=\"mistral.mistral-7b-instruct-v0:2\"\n",
    "\n",
    "instruct_mixtral8x7b_id=\"mistral.mixtral-8x7b-instruct-v0:1\"\n",
    "mistral_large_2402_id=\"mistral.mistral-large-2402-v1:0\"\n",
    "titan_embeddings_g1=\"amazon.titan-embed-text-v1\"\n",
    "titan_text_embeddings_v2=\"amazon.titan-embed-text-v2:0\"\n",
    "\n",
    "AWS_REGION=\"eu-west-1\"\n",
    "DEFAULT_MODEL=\"anthropic.claude-3-sonnet-20240229-v1:0\"#mistral_large_2402_id#instruct_mixtral8x7b_id\n",
    "\n",
    "# Set up the Bedrock client\n",
    "bedrock_client = boto3.client(\n",
    "    service_name='bedrock-runtime',\n",
    "    region_name=AWS_REGION  # Replace with your AWS region\n",
    ")\n",
    "\n",
    "# Create a Bedrock LLM instance\n",
    "bedrock_llm = Bedrock(\n",
    "    model=DEFAULT_MODEL,  # Or another model ID you prefer\n",
    "    client=bedrock_client,streaming=True,\n",
    "    model_kwargs={\n",
    "        \"temperature\": 0.1\n",
    "    }\n",
    ")\n"
   ]
  },
  {
   "cell_type": "code",
   "execution_count": 54,
   "id": "8845e3b0-c3db-449a-b0ff-24a76c31990a",
   "metadata": {
    "tags": []
   },
   "outputs": [],
   "source": [
    "# import os\n",
    "# import boto3\n",
    "# from scrapegraphai.graphs import SmartScraperGraph\n",
    "# from scrapegraphai.utils import prettify_exec_info\n",
    "# import json\n",
    "# import nest_asyncio\n",
    "\n",
    "# # Apply nest_asyncio to allow nested event loops\n",
    "# nest_asyncio.apply()\n",
    "\n",
    "# # Initialize AWS Bedrock client\n",
    "# bedrock = boto3.client(\n",
    "#     service_name='bedrock-runtime',\n",
    "#     region_name='eu-west-1'  # replace with your AWS region if different\n",
    "# )\n",
    "\n",
    "# # Configuration for the SmartScraperGraph\n",
    "# graph_config = {\n",
    "#     \"llm\": {\n",
    "#         \"model\": \"bedrock/anthropic.claude-3-sonnet-20240229-v1:0\",\n",
    "#         \"client\": bedrock  # Pass the bedrock client directly\n",
    "#     },\n",
    "#     \"embeddings\": {\n",
    "#         \"model\": \"bedrock/amazon.titan-embed-text-v2:0\",\n",
    "#         \"client\": bedrock  # Pass the bedrock client directly\n",
    "#     }\n",
    "# }\n",
    "\n",
    "# # Create the SmartScraperGraph instance\n",
    "# smart_scraper_graph = SmartScraperGraph(\n",
    "#     prompt=\"List me all the products name with their price.\",\n",
    "#     source=\"https://www.amazon.in/iphone/s?k=iphone\",\n",
    "#     config=graph_config\n",
    "# )\n",
    "\n",
    "# # Execute the scraper and save the results to a JSON file\n",
    "# result = smart_scraper_graph.run()\n",
    "# with open(\"results.json\", 'w', encoding='utf-8') as f:\n",
    "#     json.dump(result, f, indent=4)\n",
    "\n",
    "# print(\"Scraping completed. Results saved to results.json\")"
   ]
  },
  {
   "cell_type": "code",
   "execution_count": 20,
   "id": "a05b054d-9ea7-476e-9798-4ad6fafd977a",
   "metadata": {
    "tags": []
   },
   "outputs": [],
   "source": [
    "# from bs4 import BeautifulSoup\n",
    "\n",
    "# import requests\n",
    "\n",
    "# url = \"https://x.com/SafaricomPLC\"\n",
    "# response = requests.get(url)\n",
    "# soup = BeautifulSoup(response.content, \"html.parser\")\n",
    "\n",
    "# articles = soup.find_all()\n",
    "\n",
    "# for article in articles:\n",
    "#     print(article.get_text())"
   ]
  },
  {
   "cell_type": "code",
   "execution_count": 2,
   "id": "cade60dc-ed2d-4ae8-89b5-81b2f7551075",
   "metadata": {
    "tags": []
   },
   "outputs": [],
   "source": [
    "# import urllib.request\n",
    "\n",
    "# opener = urllib.request.FancyURLopener({})\n",
    "# url = \"https://www.airtelkenya.com\"\n",
    "# f = opener.open(url)\n",
    "# content = f.read()\n",
    "\n",
    "# content\n",
    "import time"
   ]
  },
  {
   "cell_type": "code",
   "execution_count": 3,
   "id": "42c20eb6-b754-4e06-9166-56706830fa11",
   "metadata": {
    "tags": []
   },
   "outputs": [
    {
     "name": "stdout",
     "output_type": "stream",
     "text": [
      "CPU times: user 4.79 s, sys: 188 ms, total: 4.98 s\n",
      "Wall time: 28.5 s\n"
     ]
    }
   ],
   "source": [
    "%%time\n",
    "from crewai import Agent, Task, Crew, LLM\n",
    "from langchain_openai import ChatOpenAI\n",
    "from crewai_tools import ScrapeWebsiteTool\n",
    "import os \n",
    "from dotenv import load_dotenv\n",
    "\n",
    "llm = LLM(model=\"bedrock/anthropic.claude-3-sonnet-20240229-v1:0\")\n",
    "\n",
    "# Instantiate tools\n",
    "site = 'https://www.safaricom.co.ke'\n",
    "web_scrape_tool = ScrapeWebsiteTool(website_url=site)\n",
    "\n",
    "# Create agents\n",
    "web_scraper_agent = Agent(\n",
    "    role='Web Scraper',\n",
    "    goal='Extract and compile all voice and call-related product information from the website',\n",
    "    backstory='''You are an expert web scraper specialized in extracting telecommunications product information. \n",
    "                 Your task is to visit the website and extract all actual content related to voice calls, \n",
    "                 calling plans, and voice services. Do not create templates - only extract real content.''',\n",
    "    tools=[web_scrape_tool],\n",
    "    verbose=False,\n",
    "    llm=llm\n",
    ")\n",
    "\n",
    "# Define tasks\n",
    "web_scraper_task = Task(\n",
    "    description='''Access the website and extract all actual content related to voice and call products. \n",
    "                  Include specific prices, features, and terms. Do not create placeholders - only extract \n",
    "                  real information that exists on the site.''',\n",
    "    expected_output='''A detailed compilation of all voice and call-related products and services, \n",
    "                      including actual prices, features, and terms found on the website.''',\n",
    "    agent=web_scraper_agent,\n",
    "    output_file='data.txt'\n",
    ")\n",
    "\n",
    "# Assemble a crew\n",
    "crew = Crew(\n",
    "    agents=[web_scraper_agent],\n",
    "    tasks=[web_scraper_task],\n",
    "    verbose=False\n",
    ")\n",
    "\n",
    "# Execute tasks\n",
    "saf_result = crew.kickoff()\n"
   ]
  },
  {
   "cell_type": "code",
   "execution_count": 4,
   "id": "c34440e3-ad82-4991-8bea-5d60b8ed9bf5",
   "metadata": {
    "tags": []
   },
   "outputs": [
    {
     "name": "stderr",
     "output_type": "stream",
     "text": [
      "2024-11-04 06:07:41,373 - 139875500939072 - __init__.py-__init__:538 - WARNING: Overriding of current TracerProvider is not allowed\n",
      "2024-11-04 06:08:09,813 - 139875500939072 - llm.py-llm:161 - ERROR: LiteLLM call failed: litellm.BadRequestError: BedrockException - {\"message\":\"The model returned the following errors: messages: final assistant content cannot end with trailing whitespace\"}\n",
      "2024-11-04 06:08:53,935 - 139875500939072 - llm.py-llm:161 - ERROR: LiteLLM call failed: litellm.BadRequestError: BedrockException - {\"message\":\"The model returned the following errors: messages: final assistant content cannot end with trailing whitespace\"}\n"
     ]
    },
    {
     "name": "stdout",
     "output_type": "stream",
     "text": [
      "CPU times: user 616 ms, sys: 9.61 ms, total: 625 ms\n",
      "Wall time: 1min 45s\n"
     ]
    }
   ],
   "source": [
    "%%time\n",
    "from crewai import Agent, Task, Crew, LLM\n",
    "from langchain_openai import ChatOpenAI\n",
    "from crewai_tools import ScrapeWebsiteTool\n",
    "import os \n",
    "from dotenv import load_dotenv\n",
    "\n",
    "llm = LLM(model=\"bedrock/anthropic.claude-3-sonnet-20240229-v1:0\")\n",
    "\n",
    "# Instantiate tools\n",
    "site = 'https://www.airtelkenya.com'\n",
    "web_scrape_tool = ScrapeWebsiteTool(website_url=site)\n",
    "\n",
    "# Create agents\n",
    "web_scraper_agent = Agent(\n",
    "    role='Web Scraper',\n",
    "    goal='Extract and compile all voice and call-related product information from the website',\n",
    "    backstory='''You are an expert web scraper specialized in extracting telecommunications product information. \n",
    "                 Your task is to visit the website and extract all actual content related to voice calls, \n",
    "                 calling plans, and voice services. Do not create templates - only extract real content.''',\n",
    "    tools=[web_scrape_tool],\n",
    "    verbose=False,\n",
    "    llm=llm\n",
    ")\n",
    "\n",
    "# Define tasks\n",
    "web_scraper_task = Task(\n",
    "    description='''Access the website and extract all actual content related to voice and call products. \n",
    "                  Include specific prices, features, and terms. Do not create placeholders - only extract \n",
    "                  real information that exists on the site.''',\n",
    "    expected_output='''A detailed compilation of all voice and call-related products and services, \n",
    "                      including actual prices, features, and terms found on the website.''',\n",
    "    agent=web_scraper_agent,\n",
    "    output_file='data.txt'\n",
    ")\n",
    "\n",
    "# Assemble a crew\n",
    "crew = Crew(\n",
    "    agents=[web_scraper_agent],\n",
    "    tasks=[web_scraper_task],\n",
    "    verbose=False\n",
    ")\n",
    "\n",
    "# Execute tasks\n",
    "Airtel_result = crew.kickoff()\n"
   ]
  },
  {
   "cell_type": "code",
   "execution_count": 5,
   "id": "b350787b-e5a7-431d-8eeb-16cecfbec001",
   "metadata": {
    "tags": []
   },
   "outputs": [
    {
     "name": "stdout",
     "output_type": "stream",
     "text": [
      "Based on the information provided, there are several key differences between Safaricom and Airtel Kenya's voice and calling offerings:\n",
      "\n",
      "1. Prepaid Voice Rates: Safaricom charges a flat rate of KES 4/minute for both on-net and off-net calls, while Airtel offers cheaper bundled minutes starting from KES 3 for 10 minutes.\n",
      "\n",
      "2. Postpaid Plans: Safaricom has fixed minute bundles (SmartTalk plans), while Airtel offers an unlimited voice plan for KES 500/month.\n",
      "\n",
      "3. Voice & Data Bundles: Safaricom's All in One bundles combine voice, data, and SMS, while Airtel separates voice and data bundles.\n",
      "\n",
      "4. Promotions: Safaricom offers daily and weekly unlimited on-net call promotions, while Airtel has the Makabo Zone feature for discounted calls to nominated numbers.\n",
      "\n",
      "5. Additional Services: Safaricom has VoLTE for HD voice calls and international roaming services, while Airtel highlights its Bonga Points rewards program and free WhatsApp data access.\n",
      "\n",
      "To attract Airtel's voice customers, Safaricom could consider the following strategies:\n",
      "\n",
      "1. Competitive Bundled Pricing: Offer more affordable bundled voice and data packages similar to Airtel's prepaid bundles, catering to different usage needs.\n",
      "\n",
      "2. Unlimited Voice Plans: Introduce postpaid unlimited voice plans like Airtel's Unlimited Plan, which could appeal to heavy voice users.\n",
      "\n",
      "3. Loyalty Programs: Enhance existing loyalty programs or introduce new ones to reward frequent voice usage and encourage customer retention.\n",
      "\n",
      "4. Network Quality: Emphasize Safaricom's network quality, coverage, and reliability for voice calls, which could be a key differentiator.\n",
      "\n",
      "5. Value-Added Services: Introduce innovative voice services like HD voice calling, call recording, or virtual phone numbers to differentiate from competitors.\n",
      "\n",
      "6. Targeted Promotions: Offer targeted promotions or discounts for Airtel customers switching to Safaricom, making the transition more attractive.\n",
      "\n",
      "7. Bundled OTT Services: Bundle popular OTT voice and messaging services like WhatsApp, Skype, or Zoom with voice plans to cater to changing\n",
      "CPU times: user 20.1 ms, sys: 0 ns, total: 20.1 ms\n",
      "Wall time: 14.7 s\n"
     ]
    }
   ],
   "source": [
    "%%time\n",
    "print(bedrock_llm.complete(f'compare {saf_result} to {Airtel_result} \\\n",
    "and share main differences as well as what startegy Safaricom can use to get Airtel Voice customers').text)"
   ]
  },
  {
   "cell_type": "code",
   "execution_count": null,
   "id": "832c5140-689e-4ea8-9fac-b01830dbddee",
   "metadata": {},
   "outputs": [],
   "source": []
  },
  {
   "cell_type": "code",
   "execution_count": 63,
   "id": "077f83fe-d6f1-418f-a148-b5f904ac7c6c",
   "metadata": {
    "tags": []
   },
   "outputs": [],
   "source": []
  },
  {
   "cell_type": "code",
   "execution_count": 19,
   "id": "23f48c47-cddd-4083-858e-75ada1921c00",
   "metadata": {
    "tags": []
   },
   "outputs": [
    {
     "name": "stderr",
     "output_type": "stream",
     "text": [
      "2024-11-04 08:20:00,747 - 139865712740096 - __init__.py-__init__:538 - WARNING: Overriding of current TracerProvider is not allowed\n",
      "2024-11-04 08:20:00,749 - 139866213971712 - __init__.py-__init__:538 - WARNING: Overriding of current TracerProvider is not allowed\n",
      "2024-11-04 08:20:00,749 - 139866192992000 - __init__.py-__init__:538 - WARNING: Overriding of current TracerProvider is not allowed\n",
      "2024-11-04 08:20:00,749 - 139865744209664 - __init__.py-__init__:538 - WARNING: Overriding of current TracerProvider is not allowed\n",
      "2024-11-04 08:20:00,751 - 139866182502144 - __init__.py-__init__:538 - WARNING: Overriding of current TracerProvider is not allowed\n",
      "2024-11-04 08:20:00,754 - 139866161522432 - __init__.py-__init__:538 - WARNING: Overriding of current TracerProvider is not allowed\n",
      "2024-11-04 08:20:00,755 - 139866203481856 - __init__.py-__init__:538 - WARNING: Overriding of current TracerProvider is not allowed\n",
      "2024-11-04 08:20:00,755 - 139866172012288 - __init__.py-__init__:538 - WARNING: Overriding of current TracerProvider is not allowed\n",
      "2024-11-04 08:20:00,756 - 139865733719808 - __init__.py-__init__:538 - WARNING: Overriding of current TracerProvider is not allowed\n",
      "2024-11-04 08:20:00,760 - 139863865161472 - __init__.py-__init__:538 - WARNING: Overriding of current TracerProvider is not allowed\n",
      "2024-11-04 08:20:13,561 - 139863865161472 - llm.py-llm:161 - ERROR: LiteLLM call failed: litellm.BadRequestError: BedrockException - {\"message\":\"The model returned the following errors: messages: final assistant content cannot end with trailing whitespace\"}\n",
      "2024-11-04 08:20:16,227 - 139863865161472 - llm.py-llm:161 - ERROR: LiteLLM call failed: litellm.BadRequestError: BedrockException - {\"message\":\"The model returned the following errors: messages: final assistant content cannot end with trailing whitespace\"}\n",
      "2024-11-04 08:20:19,614 - 139863865161472 - llm.py-llm:161 - ERROR: LiteLLM call failed: litellm.BadRequestError: BedrockException - {\"message\":\"The model returned the following errors: messages: final assistant content cannot end with trailing whitespace\"}\n",
      "2024-11-04 08:20:23,125 - 139866203481856 - llm.py-llm:161 - ERROR: LiteLLM call failed: litellm.BadRequestError: BedrockException - {\"message\":\"The model returned the following errors: messages: final assistant content cannot end with trailing whitespace\"}\n",
      "2024-11-04 08:20:25,788 - 139866203481856 - llm.py-llm:161 - ERROR: LiteLLM call failed: litellm.BadRequestError: BedrockException - {\"message\":\"The model returned the following errors: messages: final assistant content cannot end with trailing whitespace\"}\n"
     ]
    }
   ],
   "source": [
    "%%time\n",
    "from crewai import Agent, Task, Crew, LLM\n",
    "from langchain_openai import ChatOpenAI\n",
    "from crewai_tools import ScrapeWebsiteTool\n",
    "import os \n",
    "from dotenv import load_dotenv\n",
    "from datetime import datetime\n",
    "import concurrent.futures\n",
    "from tqdm import tqdm  # For progress bar\n",
    "\n",
    "llm = LLM(model=\"bedrock/anthropic.claude-3-sonnet-20240229-v1:0\",max_tokens=4096)\n",
    "\n",
    "\n",
    "try:\n",
    "    from googlesearch import search\n",
    "except ImportError: \n",
    "    print(\"No module named 'google' found\")\n",
    "\n",
    "def scrape_site(site):\n",
    "    try:\n",
    "        web_scrape_tool = ScrapeWebsiteTool(website_url=site)\n",
    "        web_scraper_agent = Agent(\n",
    "            role='Web Scraper',\n",
    "            goal='Extract and compile all Issues affecting Safaricom from the website',\n",
    "            backstory=f'''You are an expert web scraper specialized in extracting issues that negatively affect Safaricom for the date {datetime.today().strftime('%Y-%m-%d')}. \n",
    "                         Your task is to visit the website and extract all actual content related to Safaricom.\\\n",
    "                         Do not create templates - only extract real content.''',\n",
    "            tools=[web_scrape_tool],\n",
    "            verbose=False,\n",
    "            llm=llm\n",
    "        )\n",
    "        \n",
    "        web_scraper_task = Task(\n",
    "            description=f'''Access the website and extract all actual content related to issues that negatively affect Safaricom for the date {datetime.today().strftime('%Y-%m-%d')}. \n",
    "                          Include all specifics. Do not create placeholders - only extract \n",
    "                          real information that exists on the site.''',\n",
    "            expected_output=f'''A detailed compilation of all issues that affect Safaricom found on the website for the date {datetime.today().strftime('%Y-%m-%d')}.''',\n",
    "            agent=web_scraper_agent,\n",
    "            output_file='data.txt'\n",
    "        )\n",
    "        \n",
    "        crew = Crew(\n",
    "            agents=[web_scraper_agent],\n",
    "            tasks=[web_scraper_task],\n",
    "            verbose=False\n",
    "        )\n",
    "        \n",
    "        result = crew.kickoff()\n",
    "        return {'url': site, 'content': result, 'status': 'success'}\n",
    "    except Exception as e:\n",
    "        return {'url': site, 'content': str(e), 'status': 'error'}\n",
    "\n",
    "# Search for URLs\n",
    "query = f\"What are people saying about Safaricom today {datetime.today().strftime('%Y-%m-%d')}\"\n",
    "urls = list(search(query, tld=\"co.in\", num=10, stop=10, pause=2))\n",
    "\n",
    "# Define the maximum number of concurrent workers\n",
    "max_workers = 10  # Adjust this based on your system's capabilities\n",
    "\n",
    "# Process URLs in parallel\n",
    "outputs = []\n",
    "with concurrent.futures.ThreadPoolExecutor(max_workers=max_workers) as executor:\n",
    "    # Create a progress bar\n",
    "    futures = [executor.submit(scrape_site, url) for url in urls]\n",
    "    for future in tqdm(concurrent.futures.as_completed(futures), total=len(futures), desc=\"Scraping websites\"):\n",
    "        result = future.result()\n",
    "        if result['status'] == 'success':\n",
    "            outputs.append(result['content'])\n",
    "        else:\n",
    "            print(f\"Error scraping {result['url']}: {result['content']}\")\n",
    "\n",
    "# Analyze results\n",
    "if outputs:\n",
    "    analysis = bedrock_llm.complete(\n",
    "        f'You are media analyst, you need to analyze these outputs {outputs} \\\n",
    "        and create a proper summary of what is happening for Safaricom online'\n",
    "    )\n",
    "    print(\"\\nAnalysis:\")\n",
    "    print(analysis)\n",
    "else:\n",
    "    print(\"No successful scrapes to analyze\")"
   ]
  },
  {
   "cell_type": "code",
   "execution_count": 7,
   "id": "68009c69-e9d2-4a0f-8764-74133cd5ecbf",
   "metadata": {
    "tags": []
   },
   "outputs": [],
   "source": [
    "print(analysis)"
   ]
  },
  {
   "cell_type": "code",
   "execution_count": null,
   "id": "83694089-4698-42cc-923d-78cb9a591e57",
   "metadata": {
    "tags": []
   },
   "outputs": [],
   "source": [
    "urls"
   ]
  },
  {
   "cell_type": "code",
   "execution_count": 8,
   "id": "2998d2b7-b91d-421a-bf1e-600e1ba615d8",
   "metadata": {
    "tags": []
   },
   "outputs": [
    {
     "data": {
      "text/plain": [
       "\"Based on the outputs provided, it appears that none of the websites searched contained any actual content or information specifically related to issues negatively affecting Safaricom on the date of 2024-11-04. The websites covered included news sites, financial portals, Safaricom's own press releases and announcements, and Wikipedia. \\nWhile some of the outputs mentioned potential issues like data breaches, service outages, and competitive threats around that timeframe, there were no concrete details or reports of negative impacts explicitly tied to the company on that exact future date of November 4th, 2024.\\nThe websites primarily contained information about Safaricom's business performance, new initiatives, community programs, dividend announcements, and general company background. However, no substantive content matching the criteria of issues negatively affecting the company on 2024-11-04 could be found across the various sources analyzed.\\nIn summary, after thoroughly searching multiple websites, there does not seem to be any online coverage or reporting of specific negative issues impacting Safaricom on the provided date of November 4th, 2024, based on the information available at this time.\""
      ]
     },
     "execution_count": 8,
     "metadata": {},
     "output_type": "execute_result"
    }
   ],
   "source": [
    "str(analysis).replace('\\n\\n','\\n')"
   ]
  },
  {
   "cell_type": "code",
   "execution_count": 9,
   "id": "8db43de0-33b0-440e-b1c3-870cd7354496",
   "metadata": {},
   "outputs": [
    {
     "data": {
      "text/plain": [
       "CompletionResponse(text=\"Based on the outputs provided, it appears that none of the websites searched contained any actual content or information specifically related to issues negatively affecting Safaricom on the date of 2024-11-04. The websites covered included news sites, financial portals, Safaricom's own press releases and announcements, and Wikipedia. \\n\\nWhile some of the outputs mentioned potential issues like data breaches, service outages, and competitive threats around that timeframe, there were no concrete details or reports of negative impacts explicitly tied to the company on that exact future date of November 4th, 2024.\\n\\nThe websites primarily contained information about Safaricom's business performance, new initiatives, community programs, dividend announcements, and general company background. However, no substantive content matching the criteria of issues negatively affecting the company on 2024-11-04 could be found across the various sources analyzed.\\n\\nIn summary, after thoroughly searching multiple websites, there does not seem to be any online coverage or reporting of specific negative issues impacting Safaricom on the provided date of November 4th, 2024, based on the information available at this time.\", additional_kwargs={'prompt_tokens': '4790', 'completion_tokens': '247'}, raw={'id': 'msg_bdrk_01RA6Mn4PZbwgAakxpyQMVZY', 'type': 'message', 'role': 'assistant', 'model': 'claude-3-sonnet-20240229', 'stop_sequence': None, 'usage': {'input_tokens': 4790, 'output_tokens': 247}, 'content': [{'type': 'text', 'text': \"Based on the outputs provided, it appears that none of the websites searched contained any actual content or information specifically related to issues negatively affecting Safaricom on the date of 2024-11-04. The websites covered included news sites, financial portals, Safaricom's own press releases and announcements, and Wikipedia. \\n\\nWhile some of the outputs mentioned potential issues like data breaches, service outages, and competitive threats around that timeframe, there were no concrete details or reports of negative impacts explicitly tied to the company on that exact future date of November 4th, 2024.\\n\\nThe websites primarily contained information about Safaricom's business performance, new initiatives, community programs, dividend announcements, and general company background. However, no substantive content matching the criteria of issues negatively affecting the company on 2024-11-04 could be found across the various sources analyzed.\\n\\nIn summary, after thoroughly searching multiple websites, there does not seem to be any online coverage or reporting of specific negative issues impacting Safaricom on the provided date of November 4th, 2024, based on the information available at this time.\"}], 'stop_reason': 'end_turn'}, logprobs=None, delta=None)"
      ]
     },
     "execution_count": 9,
     "metadata": {},
     "output_type": "execute_result"
    }
   ],
   "source": [
    "analysis"
   ]
  },
  {
   "cell_type": "code",
   "execution_count": 13,
   "id": "a21faabe-57fd-4830-aa52-32a2f22fe2d4",
   "metadata": {
    "tags": []
   },
   "outputs": [
    {
     "data": {
      "text/plain": [
       "'Airtel Kenya offers the following voice call and calling plan products:\\n\\nPrepaid Voice Bundles:\\n- Kunataka Bundles: From KES 3 for 10 minutes \\n- Daily Bundles: From KES 5 for 12 minutes\\n- Weekly Bundles: From KES 25 for 100 minutes\\n- Monthly Bundles: From KES 100 for 500 minutes\\n\\nPrepaid Voice & Data Bundles:\\n- Daily Bundles: From KES 10 for 15 mins & 35 MB data\\n- Weekly Bundles: From KES 99 for 200 mins & 500 MB data  \\n- Monthly Bundles: From KES 500 for 2500 mins & 8 GB data\\n\\nPostpaid Plans:\\n- Unlimited Plan: KES 500 per month for unlimited Airtel mins/SMS, 4GB data\\n- 100 Minutes Plan: KES 100 per month for 100 mins to other networks, unlimited Airtel \\n- Awamu Plan: KES 1000 per month for unlimited mins/SMS, 15GB data\\n\\nSME/Business Voice Solutions: \\n- Office Unlimited: KES 3000 per month for unlimited voice & data for office lines\\n- PBX Hosting: Cloud hosted PBX phone system starting at KES 5000 per month\\n\\nKey Features:\\n- Makabo Zone allows prepaid customers to have discounted call/SMS rates to 3 nominated numbers\\n- Bonga Points rewards program to earn points for using Airtel services\\n- Free WhatsApp data access on select plans\\n- Airtel Thanks App and Self Care for account management\\n\\nTerms and conditions apply to all plans and bundles. Please see airtelkenya.com for full pricing details, features, and terms.'"
      ]
     },
     "execution_count": 13,
     "metadata": {},
     "output_type": "execute_result"
    }
   ],
   "source": [
    "Airtel_result.raw"
   ]
  },
  {
   "cell_type": "code",
   "execution_count": 15,
   "id": "bc9ef959-b2e1-4b4f-bcf5-6c1324f1eed3",
   "metadata": {
    "tags": []
   },
   "outputs": [
    {
     "data": {
      "text/plain": [
       "'Airtel Kenya Voice & Calling Plans:\\n\\n1. Airtel Prepaid Calling Plans\\n\\nUnliMITED Bundles:\\n- Daily UnliMITED @ 10/- \\n    - Unlimited on-net calls\\n    - 15MB data \\n    - Valid for 24 hours\\n\\n- Weekly UnliMITED @ 50/-\\n    - Unlimited on-net calls \\n    - 100MB data\\n    - Valid for 7 days\\n    \\n- Monthly UnliMITED @ 150/- \\n    - Unlimited on-net calls\\n    - 500MB data \\n    - Valid for 30 days\\n\\nOther Prepaid Calling Bundles:\\n\\n- Daily Bundle @ 5/-\\n    - 12 on-net minutes\\n    - Valid for 24 hours\\n        \\n- Weekly Bundle @ 25/-\\n    - 90 on-net minutes\\n    - Valid for 7 days\\n        \\n- Monthly Bundle @ 99/- \\n    - 500 on-net minutes \\n    - Valid for 30 days\\n\\n2. Airtel Postpaid Voice Plans\\n\\n- Standard Plan: \\n    - On-Net Calls: KES 2/min\\n    - Off-Net Calls: KES 4/min\\n    - Fixed Line Calls: KES 4/min\\n\\n- SmartTRYBE Bundles:\\n    - KES 999 \\n        - 1000 on-net minutes\\n        - 500 off-net minutes\\n        - 5GB data\\n    - KES 2999\\n        - Unlimited on-net calls\\n        - 2000 off-net minutes  \\n        - 20GB data\\n\\n3. Other Voice Services\\n    - International Calling Rates (per minute):\\n        - India: KES 4\\n        - USA/Canada: KES 12 \\n        - UK: KES 16\\n        - Other countries vary\\n        \\n    - Voice VPN Service\\n        - Unlimited on-net calls\\n        - 500 off-net minutes\\n        - KES 1999 per month\\n\\n    - Call Me Back Service: Get a missed call alert and call back at no charge\\n\\nTerms & Conditions apply for all plans. No other voice/calling product details were found.'"
      ]
     },
     "execution_count": 15,
     "metadata": {},
     "output_type": "execute_result"
    }
   ],
   "source": [
    "# Instantiate tools\n",
    "Asite = 'https://www.airtelkenya.com'\n",
    "Aweb_scrape_tool = ScrapeWebsiteTool(website_url=Asite)\n",
    "\n",
    "# Create agents\n",
    "Aweb_scraper_agent = Agent(\n",
    "    role='Web Scraper',\n",
    "    goal='Extract and compile all voice and call-related product information from the website',\n",
    "    backstory='''You are an expert web scraper specialized in extracting telecommunications product information. \n",
    "                 Your task is to visit the website and extract all actual content related to voice calls, \n",
    "                 calling plans, and voice services. Do not create templates - only extract real content.''',\n",
    "    tools=[Aweb_scrape_tool],\n",
    "    verbose=False,\n",
    "    llm=llm\n",
    ")\n",
    "\n",
    "# Define tasks\n",
    "Aweb_scraper_task = Task(\n",
    "    description='''Access the website and extract all actual content related to voice and call products. \n",
    "                  Include specific prices, features, and terms. Do not create placeholders - only extract \n",
    "                  real information that exists on the site.''',\n",
    "    expected_output='''A detailed compilation of all voice and call-related products and services, \n",
    "                      including actual prices, features, and terms found on the website.''',\n",
    "    agent=Aweb_scraper_agent,\n",
    "    output_file='data.txt'\n",
    ")\n",
    "\n",
    "# Assemble a crew\n",
    "airtel_crew = Crew(\n",
    "    agents=[Aweb_scraper_agent],\n",
    "    tasks=[Aweb_scraper_task],\n",
    "    verbose=False\n",
    ")\n",
    "\n",
    "airtel_crew.kickoff().raw"
   ]
  },
  {
   "cell_type": "code",
   "execution_count": 17,
   "id": "52d57c55-c31a-4a56-9c23-fbab94cbe4ff",
   "metadata": {
    "tags": []
   },
   "outputs": [
    {
     "ename": "BadRequestError",
     "evalue": "litellm.BadRequestError: BedrockException - {\"message\":\"The model returned the following errors: messages: final assistant content cannot end with trailing whitespace\"}",
     "output_type": "error",
     "traceback": [
      "\u001b[0;31m---------------------------------------------------------------------------\u001b[0m",
      "\u001b[0;31mHTTPStatusError\u001b[0m                           Traceback (most recent call last)",
      "File \u001b[0;32m~/anaconda3/envs/python3/lib/python3.10/site-packages/litellm/llms/bedrock/chat/converse_handler.py:413\u001b[0m, in \u001b[0;36mBedrockConverseLLM.completion\u001b[0;34m(self, model, messages, api_base, custom_prompt_dict, model_response, print_verbose, encoding, logging_obj, optional_params, acompletion, timeout, litellm_params, logger_fn, extra_headers, client)\u001b[0m\n\u001b[1;32m    412\u001b[0m \u001b[38;5;28;01mtry\u001b[39;00m:\n\u001b[0;32m--> 413\u001b[0m     response \u001b[38;5;241m=\u001b[39m \u001b[43mclient\u001b[49m\u001b[38;5;241;43m.\u001b[39;49m\u001b[43mpost\u001b[49m\u001b[43m(\u001b[49m\u001b[43murl\u001b[49m\u001b[38;5;241;43m=\u001b[39;49m\u001b[43mproxy_endpoint_url\u001b[49m\u001b[43m,\u001b[49m\u001b[43m \u001b[49m\u001b[43mheaders\u001b[49m\u001b[38;5;241;43m=\u001b[39;49m\u001b[43mprepped\u001b[49m\u001b[38;5;241;43m.\u001b[39;49m\u001b[43mheaders\u001b[49m\u001b[43m,\u001b[49m\u001b[43m \u001b[49m\u001b[43mdata\u001b[49m\u001b[38;5;241;43m=\u001b[39;49m\u001b[43mdata\u001b[49m\u001b[43m)\u001b[49m  \u001b[38;5;66;03m# type: ignore\u001b[39;00m\n\u001b[1;32m    414\u001b[0m     response\u001b[38;5;241m.\u001b[39mraise_for_status()\n",
      "File \u001b[0;32m~/anaconda3/envs/python3/lib/python3.10/site-packages/litellm/llms/custom_httpx/http_handler.py:386\u001b[0m, in \u001b[0;36mHTTPHandler.post\u001b[0;34m(self, url, data, json, params, headers, stream, timeout)\u001b[0m\n\u001b[1;32m    385\u001b[0m         \u001b[38;5;28msetattr\u001b[39m(e, \u001b[38;5;124m\"\u001b[39m\u001b[38;5;124mmessage\u001b[39m\u001b[38;5;124m\"\u001b[39m, e\u001b[38;5;241m.\u001b[39mresponse\u001b[38;5;241m.\u001b[39mtext)\n\u001b[0;32m--> 386\u001b[0m     \u001b[38;5;28;01mraise\u001b[39;00m e\n\u001b[1;32m    387\u001b[0m \u001b[38;5;28;01mexcept\u001b[39;00m \u001b[38;5;167;01mException\u001b[39;00m \u001b[38;5;28;01mas\u001b[39;00m e:\n",
      "File \u001b[0;32m~/anaconda3/envs/python3/lib/python3.10/site-packages/litellm/llms/custom_httpx/http_handler.py:372\u001b[0m, in \u001b[0;36mHTTPHandler.post\u001b[0;34m(self, url, data, json, params, headers, stream, timeout)\u001b[0m\n\u001b[1;32m    371\u001b[0m response \u001b[38;5;241m=\u001b[39m \u001b[38;5;28mself\u001b[39m\u001b[38;5;241m.\u001b[39mclient\u001b[38;5;241m.\u001b[39msend(req, stream\u001b[38;5;241m=\u001b[39mstream)\n\u001b[0;32m--> 372\u001b[0m \u001b[43mresponse\u001b[49m\u001b[38;5;241;43m.\u001b[39;49m\u001b[43mraise_for_status\u001b[49m\u001b[43m(\u001b[49m\u001b[43m)\u001b[49m\n\u001b[1;32m    373\u001b[0m \u001b[38;5;28;01mreturn\u001b[39;00m response\n",
      "File \u001b[0;32m~/anaconda3/envs/python3/lib/python3.10/site-packages/httpx/_models.py:761\u001b[0m, in \u001b[0;36mResponse.raise_for_status\u001b[0;34m(self)\u001b[0m\n\u001b[1;32m    760\u001b[0m message \u001b[38;5;241m=\u001b[39m message\u001b[38;5;241m.\u001b[39mformat(\u001b[38;5;28mself\u001b[39m, error_type\u001b[38;5;241m=\u001b[39merror_type)\n\u001b[0;32m--> 761\u001b[0m \u001b[38;5;28;01mraise\u001b[39;00m HTTPStatusError(message, request\u001b[38;5;241m=\u001b[39mrequest, response\u001b[38;5;241m=\u001b[39m\u001b[38;5;28mself\u001b[39m)\n",
      "\u001b[0;31mHTTPStatusError\u001b[0m: Client error '400 Bad Request' for url 'https://bedrock-runtime.us-west-2.amazonaws.com/model/anthropic.claude-3-sonnet-20240229-v1:0/converse'\nFor more information check: https://developer.mozilla.org/en-US/docs/Web/HTTP/Status/400",
      "\nDuring handling of the above exception, another exception occurred:\n",
      "\u001b[0;31mBedrockError\u001b[0m                              Traceback (most recent call last)",
      "File \u001b[0;32m~/anaconda3/envs/python3/lib/python3.10/site-packages/litellm/main.py:2564\u001b[0m, in \u001b[0;36mcompletion\u001b[0;34m(model, messages, timeout, temperature, top_p, n, stream, stream_options, stop, max_completion_tokens, max_tokens, modalities, audio, presence_penalty, frequency_penalty, logit_bias, user, response_format, seed, tools, tool_choice, logprobs, top_logprobs, parallel_tool_calls, deployment_id, extra_headers, functions, function_call, base_url, api_version, api_key, model_list, **kwargs)\u001b[0m\n\u001b[1;32m   2563\u001b[0m \u001b[38;5;28;01mif\u001b[39;00m base_model \u001b[38;5;129;01min\u001b[39;00m litellm\u001b[38;5;241m.\u001b[39mBEDROCK_CONVERSE_MODELS:\n\u001b[0;32m-> 2564\u001b[0m     response \u001b[38;5;241m=\u001b[39m \u001b[43mbedrock_converse_chat_completion\u001b[49m\u001b[38;5;241;43m.\u001b[39;49m\u001b[43mcompletion\u001b[49m\u001b[43m(\u001b[49m\n\u001b[1;32m   2565\u001b[0m \u001b[43m        \u001b[49m\u001b[43mmodel\u001b[49m\u001b[38;5;241;43m=\u001b[39;49m\u001b[43mmodel\u001b[49m\u001b[43m,\u001b[49m\n\u001b[1;32m   2566\u001b[0m \u001b[43m        \u001b[49m\u001b[43mmessages\u001b[49m\u001b[38;5;241;43m=\u001b[39;49m\u001b[43mmessages\u001b[49m\u001b[43m,\u001b[49m\n\u001b[1;32m   2567\u001b[0m \u001b[43m        \u001b[49m\u001b[43mcustom_prompt_dict\u001b[49m\u001b[38;5;241;43m=\u001b[39;49m\u001b[43mcustom_prompt_dict\u001b[49m\u001b[43m,\u001b[49m\n\u001b[1;32m   2568\u001b[0m \u001b[43m        \u001b[49m\u001b[43mmodel_response\u001b[49m\u001b[38;5;241;43m=\u001b[39;49m\u001b[43mmodel_response\u001b[49m\u001b[43m,\u001b[49m\n\u001b[1;32m   2569\u001b[0m \u001b[43m        \u001b[49m\u001b[43mprint_verbose\u001b[49m\u001b[38;5;241;43m=\u001b[39;49m\u001b[43mprint_verbose\u001b[49m\u001b[43m,\u001b[49m\n\u001b[1;32m   2570\u001b[0m \u001b[43m        \u001b[49m\u001b[43moptional_params\u001b[49m\u001b[38;5;241;43m=\u001b[39;49m\u001b[43moptional_params\u001b[49m\u001b[43m,\u001b[49m\n\u001b[1;32m   2571\u001b[0m \u001b[43m        \u001b[49m\u001b[43mlitellm_params\u001b[49m\u001b[38;5;241;43m=\u001b[39;49m\u001b[43mlitellm_params\u001b[49m\u001b[43m,\u001b[49m\u001b[43m  \u001b[49m\u001b[38;5;66;43;03m# type: ignore\u001b[39;49;00m\n\u001b[1;32m   2572\u001b[0m \u001b[43m        \u001b[49m\u001b[43mlogger_fn\u001b[49m\u001b[38;5;241;43m=\u001b[39;49m\u001b[43mlogger_fn\u001b[49m\u001b[43m,\u001b[49m\n\u001b[1;32m   2573\u001b[0m \u001b[43m        \u001b[49m\u001b[43mencoding\u001b[49m\u001b[38;5;241;43m=\u001b[39;49m\u001b[43mencoding\u001b[49m\u001b[43m,\u001b[49m\n\u001b[1;32m   2574\u001b[0m \u001b[43m        \u001b[49m\u001b[43mlogging_obj\u001b[49m\u001b[38;5;241;43m=\u001b[39;49m\u001b[43mlogging\u001b[49m\u001b[43m,\u001b[49m\n\u001b[1;32m   2575\u001b[0m \u001b[43m        \u001b[49m\u001b[43mextra_headers\u001b[49m\u001b[38;5;241;43m=\u001b[39;49m\u001b[43mextra_headers\u001b[49m\u001b[43m,\u001b[49m\n\u001b[1;32m   2576\u001b[0m \u001b[43m        \u001b[49m\u001b[43mtimeout\u001b[49m\u001b[38;5;241;43m=\u001b[39;49m\u001b[43mtimeout\u001b[49m\u001b[43m,\u001b[49m\n\u001b[1;32m   2577\u001b[0m \u001b[43m        \u001b[49m\u001b[43macompletion\u001b[49m\u001b[38;5;241;43m=\u001b[39;49m\u001b[43macompletion\u001b[49m\u001b[43m,\u001b[49m\n\u001b[1;32m   2578\u001b[0m \u001b[43m        \u001b[49m\u001b[43mclient\u001b[49m\u001b[38;5;241;43m=\u001b[39;49m\u001b[43mclient\u001b[49m\u001b[43m,\u001b[49m\n\u001b[1;32m   2579\u001b[0m \u001b[43m        \u001b[49m\u001b[43mapi_base\u001b[49m\u001b[38;5;241;43m=\u001b[39;49m\u001b[43mapi_base\u001b[49m\u001b[43m,\u001b[49m\n\u001b[1;32m   2580\u001b[0m \u001b[43m    \u001b[49m\u001b[43m)\u001b[49m\n\u001b[1;32m   2581\u001b[0m \u001b[38;5;28;01melse\u001b[39;00m:\n",
      "File \u001b[0;32m~/anaconda3/envs/python3/lib/python3.10/site-packages/litellm/llms/bedrock/chat/converse_handler.py:417\u001b[0m, in \u001b[0;36mBedrockConverseLLM.completion\u001b[0;34m(self, model, messages, api_base, custom_prompt_dict, model_response, print_verbose, encoding, logging_obj, optional_params, acompletion, timeout, litellm_params, logger_fn, extra_headers, client)\u001b[0m\n\u001b[1;32m    416\u001b[0m     error_code \u001b[38;5;241m=\u001b[39m err\u001b[38;5;241m.\u001b[39mresponse\u001b[38;5;241m.\u001b[39mstatus_code\n\u001b[0;32m--> 417\u001b[0m     \u001b[38;5;28;01mraise\u001b[39;00m BedrockError(status_code\u001b[38;5;241m=\u001b[39merror_code, message\u001b[38;5;241m=\u001b[39merr\u001b[38;5;241m.\u001b[39mresponse\u001b[38;5;241m.\u001b[39mtext)\n\u001b[1;32m    418\u001b[0m \u001b[38;5;28;01mexcept\u001b[39;00m httpx\u001b[38;5;241m.\u001b[39mTimeoutException:\n",
      "\u001b[0;31mBedrockError\u001b[0m: {\"message\":\"The model returned the following errors: messages: final assistant content cannot end with trailing whitespace\"}",
      "\nDuring handling of the above exception, another exception occurred:\n",
      "\u001b[0;31mBadRequestError\u001b[0m                           Traceback (most recent call last)",
      "Cell \u001b[0;32mIn[17], line 1\u001b[0m\n\u001b[0;32m----> 1\u001b[0m \u001b[43mairtel_crew\u001b[49m\u001b[38;5;241;43m.\u001b[39;49m\u001b[43mkickoff\u001b[49m\u001b[43m(\u001b[49m\u001b[43m)\u001b[49m\n",
      "File \u001b[0;32m~/anaconda3/envs/python3/lib/python3.10/site-packages/crewai/crew.py:494\u001b[0m, in \u001b[0;36mCrew.kickoff\u001b[0;34m(self, inputs)\u001b[0m\n\u001b[1;32m    491\u001b[0m metrics: List[UsageMetrics] \u001b[38;5;241m=\u001b[39m []\n\u001b[1;32m    493\u001b[0m \u001b[38;5;28;01mif\u001b[39;00m \u001b[38;5;28mself\u001b[39m\u001b[38;5;241m.\u001b[39mprocess \u001b[38;5;241m==\u001b[39m Process\u001b[38;5;241m.\u001b[39msequential:\n\u001b[0;32m--> 494\u001b[0m     result \u001b[38;5;241m=\u001b[39m \u001b[38;5;28;43mself\u001b[39;49m\u001b[38;5;241;43m.\u001b[39;49m\u001b[43m_run_sequential_process\u001b[49m\u001b[43m(\u001b[49m\u001b[43m)\u001b[49m\n\u001b[1;32m    495\u001b[0m \u001b[38;5;28;01melif\u001b[39;00m \u001b[38;5;28mself\u001b[39m\u001b[38;5;241m.\u001b[39mprocess \u001b[38;5;241m==\u001b[39m Process\u001b[38;5;241m.\u001b[39mhierarchical:\n\u001b[1;32m    496\u001b[0m     result \u001b[38;5;241m=\u001b[39m \u001b[38;5;28mself\u001b[39m\u001b[38;5;241m.\u001b[39m_run_hierarchical_process()\n",
      "File \u001b[0;32m~/anaconda3/envs/python3/lib/python3.10/site-packages/crewai/crew.py:598\u001b[0m, in \u001b[0;36mCrew._run_sequential_process\u001b[0;34m(self)\u001b[0m\n\u001b[1;32m    596\u001b[0m \u001b[38;5;28;01mdef\u001b[39;00m \u001b[38;5;21m_run_sequential_process\u001b[39m(\u001b[38;5;28mself\u001b[39m) \u001b[38;5;241m-\u001b[39m\u001b[38;5;241m>\u001b[39m CrewOutput:\n\u001b[1;32m    597\u001b[0m \u001b[38;5;250m    \u001b[39m\u001b[38;5;124;03m\"\"\"Executes tasks sequentially and returns the final output.\"\"\"\u001b[39;00m\n\u001b[0;32m--> 598\u001b[0m     \u001b[38;5;28;01mreturn\u001b[39;00m \u001b[38;5;28;43mself\u001b[39;49m\u001b[38;5;241;43m.\u001b[39;49m\u001b[43m_execute_tasks\u001b[49m\u001b[43m(\u001b[49m\u001b[38;5;28;43mself\u001b[39;49m\u001b[38;5;241;43m.\u001b[39;49m\u001b[43mtasks\u001b[49m\u001b[43m)\u001b[49m\n",
      "File \u001b[0;32m~/anaconda3/envs/python3/lib/python3.10/site-packages/crewai/crew.py:696\u001b[0m, in \u001b[0;36mCrew._execute_tasks\u001b[0;34m(self, tasks, start_index, was_replayed)\u001b[0m\n\u001b[1;32m    693\u001b[0m     futures\u001b[38;5;241m.\u001b[39mclear()\n\u001b[1;32m    695\u001b[0m context \u001b[38;5;241m=\u001b[39m \u001b[38;5;28mself\u001b[39m\u001b[38;5;241m.\u001b[39m_get_context(task, task_outputs)\n\u001b[0;32m--> 696\u001b[0m task_output \u001b[38;5;241m=\u001b[39m \u001b[43mtask\u001b[49m\u001b[38;5;241;43m.\u001b[39;49m\u001b[43mexecute_sync\u001b[49m\u001b[43m(\u001b[49m\n\u001b[1;32m    697\u001b[0m \u001b[43m    \u001b[49m\u001b[43magent\u001b[49m\u001b[38;5;241;43m=\u001b[39;49m\u001b[43magent_to_use\u001b[49m\u001b[43m,\u001b[49m\n\u001b[1;32m    698\u001b[0m \u001b[43m    \u001b[49m\u001b[43mcontext\u001b[49m\u001b[38;5;241;43m=\u001b[39;49m\u001b[43mcontext\u001b[49m\u001b[43m,\u001b[49m\n\u001b[1;32m    699\u001b[0m \u001b[43m    \u001b[49m\u001b[43mtools\u001b[49m\u001b[38;5;241;43m=\u001b[39;49m\u001b[43magent_to_use\u001b[49m\u001b[38;5;241;43m.\u001b[39;49m\u001b[43mtools\u001b[49m\u001b[43m,\u001b[49m\n\u001b[1;32m    700\u001b[0m \u001b[43m\u001b[49m\u001b[43m)\u001b[49m\n\u001b[1;32m    701\u001b[0m task_outputs \u001b[38;5;241m=\u001b[39m [task_output]\n\u001b[1;32m    702\u001b[0m \u001b[38;5;28mself\u001b[39m\u001b[38;5;241m.\u001b[39m_process_task_result(task, task_output)\n",
      "File \u001b[0;32m~/anaconda3/envs/python3/lib/python3.10/site-packages/crewai/task.py:191\u001b[0m, in \u001b[0;36mTask.execute_sync\u001b[0;34m(self, agent, context, tools)\u001b[0m\n\u001b[1;32m    184\u001b[0m \u001b[38;5;28;01mdef\u001b[39;00m \u001b[38;5;21mexecute_sync\u001b[39m(\n\u001b[1;32m    185\u001b[0m     \u001b[38;5;28mself\u001b[39m,\n\u001b[1;32m    186\u001b[0m     agent: Optional[BaseAgent] \u001b[38;5;241m=\u001b[39m \u001b[38;5;28;01mNone\u001b[39;00m,\n\u001b[1;32m    187\u001b[0m     context: Optional[\u001b[38;5;28mstr\u001b[39m] \u001b[38;5;241m=\u001b[39m \u001b[38;5;28;01mNone\u001b[39;00m,\n\u001b[1;32m    188\u001b[0m     tools: Optional[List[Any]] \u001b[38;5;241m=\u001b[39m \u001b[38;5;28;01mNone\u001b[39;00m,\n\u001b[1;32m    189\u001b[0m ) \u001b[38;5;241m-\u001b[39m\u001b[38;5;241m>\u001b[39m TaskOutput:\n\u001b[1;32m    190\u001b[0m \u001b[38;5;250m    \u001b[39m\u001b[38;5;124;03m\"\"\"Execute the task synchronously.\"\"\"\u001b[39;00m\n\u001b[0;32m--> 191\u001b[0m     \u001b[38;5;28;01mreturn\u001b[39;00m \u001b[38;5;28;43mself\u001b[39;49m\u001b[38;5;241;43m.\u001b[39;49m\u001b[43m_execute_core\u001b[49m\u001b[43m(\u001b[49m\u001b[43magent\u001b[49m\u001b[43m,\u001b[49m\u001b[43m \u001b[49m\u001b[43mcontext\u001b[49m\u001b[43m,\u001b[49m\u001b[43m \u001b[49m\u001b[43mtools\u001b[49m\u001b[43m)\u001b[49m\n",
      "File \u001b[0;32m~/anaconda3/envs/python3/lib/python3.10/site-packages/crewai/task.py:247\u001b[0m, in \u001b[0;36mTask._execute_core\u001b[0;34m(self, agent, context, tools)\u001b[0m\n\u001b[1;32m    243\u001b[0m tools \u001b[38;5;241m=\u001b[39m tools \u001b[38;5;129;01mor\u001b[39;00m \u001b[38;5;28mself\u001b[39m\u001b[38;5;241m.\u001b[39mtools \u001b[38;5;129;01mor\u001b[39;00m []\n\u001b[1;32m    245\u001b[0m \u001b[38;5;28mself\u001b[39m\u001b[38;5;241m.\u001b[39mprocessed_by_agents\u001b[38;5;241m.\u001b[39madd(agent\u001b[38;5;241m.\u001b[39mrole)\n\u001b[0;32m--> 247\u001b[0m result \u001b[38;5;241m=\u001b[39m \u001b[43magent\u001b[49m\u001b[38;5;241;43m.\u001b[39;49m\u001b[43mexecute_task\u001b[49m\u001b[43m(\u001b[49m\n\u001b[1;32m    248\u001b[0m \u001b[43m    \u001b[49m\u001b[43mtask\u001b[49m\u001b[38;5;241;43m=\u001b[39;49m\u001b[38;5;28;43mself\u001b[39;49m\u001b[43m,\u001b[49m\n\u001b[1;32m    249\u001b[0m \u001b[43m    \u001b[49m\u001b[43mcontext\u001b[49m\u001b[38;5;241;43m=\u001b[39;49m\u001b[43mcontext\u001b[49m\u001b[43m,\u001b[49m\n\u001b[1;32m    250\u001b[0m \u001b[43m    \u001b[49m\u001b[43mtools\u001b[49m\u001b[38;5;241;43m=\u001b[39;49m\u001b[43mtools\u001b[49m\u001b[43m,\u001b[49m\n\u001b[1;32m    251\u001b[0m \u001b[43m\u001b[49m\u001b[43m)\u001b[49m\n\u001b[1;32m    253\u001b[0m pydantic_output, json_output \u001b[38;5;241m=\u001b[39m \u001b[38;5;28mself\u001b[39m\u001b[38;5;241m.\u001b[39m_export_output(result)\n\u001b[1;32m    255\u001b[0m task_output \u001b[38;5;241m=\u001b[39m TaskOutput(\n\u001b[1;32m    256\u001b[0m     name\u001b[38;5;241m=\u001b[39m\u001b[38;5;28mself\u001b[39m\u001b[38;5;241m.\u001b[39mname,\n\u001b[1;32m    257\u001b[0m     description\u001b[38;5;241m=\u001b[39m\u001b[38;5;28mself\u001b[39m\u001b[38;5;241m.\u001b[39mdescription,\n\u001b[0;32m   (...)\u001b[0m\n\u001b[1;32m    263\u001b[0m     output_format\u001b[38;5;241m=\u001b[39m\u001b[38;5;28mself\u001b[39m\u001b[38;5;241m.\u001b[39m_get_output_format(),\n\u001b[1;32m    264\u001b[0m )\n",
      "File \u001b[0;32m~/anaconda3/envs/python3/lib/python3.10/site-packages/crewai/agent.py:247\u001b[0m, in \u001b[0;36mAgent.execute_task\u001b[0;34m(self, task, context, tools)\u001b[0m\n\u001b[1;32m    245\u001b[0m     \u001b[38;5;28mself\u001b[39m\u001b[38;5;241m.\u001b[39m_times_executed \u001b[38;5;241m+\u001b[39m\u001b[38;5;241m=\u001b[39m \u001b[38;5;241m1\u001b[39m\n\u001b[1;32m    246\u001b[0m     \u001b[38;5;28;01mif\u001b[39;00m \u001b[38;5;28mself\u001b[39m\u001b[38;5;241m.\u001b[39m_times_executed \u001b[38;5;241m>\u001b[39m \u001b[38;5;28mself\u001b[39m\u001b[38;5;241m.\u001b[39mmax_retry_limit:\n\u001b[0;32m--> 247\u001b[0m         \u001b[38;5;28;01mraise\u001b[39;00m e\n\u001b[1;32m    248\u001b[0m     result \u001b[38;5;241m=\u001b[39m \u001b[38;5;28mself\u001b[39m\u001b[38;5;241m.\u001b[39mexecute_task(task, context, tools)\n\u001b[1;32m    250\u001b[0m \u001b[38;5;28;01mif\u001b[39;00m \u001b[38;5;28mself\u001b[39m\u001b[38;5;241m.\u001b[39mmax_rpm \u001b[38;5;129;01mand\u001b[39;00m \u001b[38;5;28mself\u001b[39m\u001b[38;5;241m.\u001b[39m_rpm_controller:\n",
      "File \u001b[0;32m~/anaconda3/envs/python3/lib/python3.10/site-packages/crewai/agent.py:236\u001b[0m, in \u001b[0;36mAgent.execute_task\u001b[0;34m(self, task, context, tools)\u001b[0m\n\u001b[1;32m    233\u001b[0m     task_prompt \u001b[38;5;241m=\u001b[39m \u001b[38;5;28mself\u001b[39m\u001b[38;5;241m.\u001b[39m_use_trained_data(task_prompt\u001b[38;5;241m=\u001b[39mtask_prompt)\n\u001b[1;32m    235\u001b[0m \u001b[38;5;28;01mtry\u001b[39;00m:\n\u001b[0;32m--> 236\u001b[0m     result \u001b[38;5;241m=\u001b[39m \u001b[38;5;28;43mself\u001b[39;49m\u001b[38;5;241;43m.\u001b[39;49m\u001b[43magent_executor\u001b[49m\u001b[38;5;241;43m.\u001b[39;49m\u001b[43minvoke\u001b[49m\u001b[43m(\u001b[49m\n\u001b[1;32m    237\u001b[0m \u001b[43m        \u001b[49m\u001b[43m{\u001b[49m\n\u001b[1;32m    238\u001b[0m \u001b[43m            \u001b[49m\u001b[38;5;124;43m\"\u001b[39;49m\u001b[38;5;124;43minput\u001b[39;49m\u001b[38;5;124;43m\"\u001b[39;49m\u001b[43m:\u001b[49m\u001b[43m \u001b[49m\u001b[43mtask_prompt\u001b[49m\u001b[43m,\u001b[49m\n\u001b[1;32m    239\u001b[0m \u001b[43m            \u001b[49m\u001b[38;5;124;43m\"\u001b[39;49m\u001b[38;5;124;43mtool_names\u001b[39;49m\u001b[38;5;124;43m\"\u001b[39;49m\u001b[43m:\u001b[49m\u001b[43m \u001b[49m\u001b[38;5;28;43mself\u001b[39;49m\u001b[38;5;241;43m.\u001b[39;49m\u001b[43magent_executor\u001b[49m\u001b[38;5;241;43m.\u001b[39;49m\u001b[43mtools_names\u001b[49m\u001b[43m,\u001b[49m\n\u001b[1;32m    240\u001b[0m \u001b[43m            \u001b[49m\u001b[38;5;124;43m\"\u001b[39;49m\u001b[38;5;124;43mtools\u001b[39;49m\u001b[38;5;124;43m\"\u001b[39;49m\u001b[43m:\u001b[49m\u001b[43m \u001b[49m\u001b[38;5;28;43mself\u001b[39;49m\u001b[38;5;241;43m.\u001b[39;49m\u001b[43magent_executor\u001b[49m\u001b[38;5;241;43m.\u001b[39;49m\u001b[43mtools_description\u001b[49m\u001b[43m,\u001b[49m\n\u001b[1;32m    241\u001b[0m \u001b[43m            \u001b[49m\u001b[38;5;124;43m\"\u001b[39;49m\u001b[38;5;124;43mask_for_human_input\u001b[39;49m\u001b[38;5;124;43m\"\u001b[39;49m\u001b[43m:\u001b[49m\u001b[43m \u001b[49m\u001b[43mtask\u001b[49m\u001b[38;5;241;43m.\u001b[39;49m\u001b[43mhuman_input\u001b[49m\u001b[43m,\u001b[49m\n\u001b[1;32m    242\u001b[0m \u001b[43m        \u001b[49m\u001b[43m}\u001b[49m\n\u001b[1;32m    243\u001b[0m \u001b[43m    \u001b[49m\u001b[43m)\u001b[49m[\u001b[38;5;124m\"\u001b[39m\u001b[38;5;124moutput\u001b[39m\u001b[38;5;124m\"\u001b[39m]\n\u001b[1;32m    244\u001b[0m \u001b[38;5;28;01mexcept\u001b[39;00m \u001b[38;5;167;01mException\u001b[39;00m \u001b[38;5;28;01mas\u001b[39;00m e:\n\u001b[1;32m    245\u001b[0m     \u001b[38;5;28mself\u001b[39m\u001b[38;5;241m.\u001b[39m_times_executed \u001b[38;5;241m+\u001b[39m\u001b[38;5;241m=\u001b[39m \u001b[38;5;241m1\u001b[39m\n",
      "File \u001b[0;32m~/anaconda3/envs/python3/lib/python3.10/site-packages/crewai/agents/crew_agent_executor.py:93\u001b[0m, in \u001b[0;36mCrewAgentExecutor.invoke\u001b[0;34m(self, inputs)\u001b[0m\n\u001b[1;32m     90\u001b[0m \u001b[38;5;28mself\u001b[39m\u001b[38;5;241m.\u001b[39m_show_start_logs()\n\u001b[1;32m     92\u001b[0m \u001b[38;5;28mself\u001b[39m\u001b[38;5;241m.\u001b[39mask_for_human_input \u001b[38;5;241m=\u001b[39m \u001b[38;5;28mbool\u001b[39m(inputs\u001b[38;5;241m.\u001b[39mget(\u001b[38;5;124m\"\u001b[39m\u001b[38;5;124mask_for_human_input\u001b[39m\u001b[38;5;124m\"\u001b[39m, \u001b[38;5;28;01mFalse\u001b[39;00m))\n\u001b[0;32m---> 93\u001b[0m formatted_answer \u001b[38;5;241m=\u001b[39m \u001b[38;5;28;43mself\u001b[39;49m\u001b[38;5;241;43m.\u001b[39;49m\u001b[43m_invoke_loop\u001b[49m\u001b[43m(\u001b[49m\u001b[43m)\u001b[49m\n\u001b[1;32m     95\u001b[0m \u001b[38;5;28;01mif\u001b[39;00m \u001b[38;5;28mself\u001b[39m\u001b[38;5;241m.\u001b[39mask_for_human_input:\n\u001b[1;32m     96\u001b[0m     human_feedback \u001b[38;5;241m=\u001b[39m \u001b[38;5;28mself\u001b[39m\u001b[38;5;241m.\u001b[39m_ask_human_input(formatted_answer\u001b[38;5;241m.\u001b[39moutput)\n",
      "File \u001b[0;32m~/anaconda3/envs/python3/lib/python3.10/site-packages/crewai/agents/crew_agent_executor.py:175\u001b[0m, in \u001b[0;36mCrewAgentExecutor._invoke_loop\u001b[0;34m(self, formatted_answer)\u001b[0m\n\u001b[1;32m    173\u001b[0m         \u001b[38;5;28;01mreturn\u001b[39;00m \u001b[38;5;28mself\u001b[39m\u001b[38;5;241m.\u001b[39m_invoke_loop(formatted_answer)\n\u001b[1;32m    174\u001b[0m     \u001b[38;5;28;01melse\u001b[39;00m:\n\u001b[0;32m--> 175\u001b[0m         \u001b[38;5;28;01mraise\u001b[39;00m e\n\u001b[1;32m    177\u001b[0m \u001b[38;5;28mself\u001b[39m\u001b[38;5;241m.\u001b[39m_show_logs(formatted_answer)\n\u001b[1;32m    178\u001b[0m \u001b[38;5;28;01mreturn\u001b[39;00m formatted_answer\n",
      "File \u001b[0;32m~/anaconda3/envs/python3/lib/python3.10/site-packages/crewai/agents/crew_agent_executor.py:115\u001b[0m, in \u001b[0;36mCrewAgentExecutor._invoke_loop\u001b[0;34m(self, formatted_answer)\u001b[0m\n\u001b[1;32m    113\u001b[0m \u001b[38;5;28;01mwhile\u001b[39;00m \u001b[38;5;129;01mnot\u001b[39;00m \u001b[38;5;28misinstance\u001b[39m(formatted_answer, AgentFinish):\n\u001b[1;32m    114\u001b[0m     \u001b[38;5;28;01mif\u001b[39;00m \u001b[38;5;129;01mnot\u001b[39;00m \u001b[38;5;28mself\u001b[39m\u001b[38;5;241m.\u001b[39mrequest_within_rpm_limit \u001b[38;5;129;01mor\u001b[39;00m \u001b[38;5;28mself\u001b[39m\u001b[38;5;241m.\u001b[39mrequest_within_rpm_limit():\n\u001b[0;32m--> 115\u001b[0m         answer \u001b[38;5;241m=\u001b[39m \u001b[38;5;28;43mself\u001b[39;49m\u001b[38;5;241;43m.\u001b[39;49m\u001b[43mllm\u001b[49m\u001b[38;5;241;43m.\u001b[39;49m\u001b[43mcall\u001b[49m\u001b[43m(\u001b[49m\n\u001b[1;32m    116\u001b[0m \u001b[43m            \u001b[49m\u001b[38;5;28;43mself\u001b[39;49m\u001b[38;5;241;43m.\u001b[39;49m\u001b[43mmessages\u001b[49m\u001b[43m,\u001b[49m\n\u001b[1;32m    117\u001b[0m \u001b[43m            \u001b[49m\u001b[43mcallbacks\u001b[49m\u001b[38;5;241;43m=\u001b[39;49m\u001b[38;5;28;43mself\u001b[39;49m\u001b[38;5;241;43m.\u001b[39;49m\u001b[43mcallbacks\u001b[49m\u001b[43m,\u001b[49m\n\u001b[1;32m    118\u001b[0m \u001b[43m        \u001b[49m\u001b[43m)\u001b[49m\n\u001b[1;32m    120\u001b[0m         \u001b[38;5;28;01mif\u001b[39;00m \u001b[38;5;129;01mnot\u001b[39;00m \u001b[38;5;28mself\u001b[39m\u001b[38;5;241m.\u001b[39muse_stop_words:\n\u001b[1;32m    121\u001b[0m             \u001b[38;5;28;01mtry\u001b[39;00m:\n",
      "File \u001b[0;32m~/anaconda3/envs/python3/lib/python3.10/site-packages/crewai/llm.py:155\u001b[0m, in \u001b[0;36mLLM.call\u001b[0;34m(self, messages, callbacks)\u001b[0m\n\u001b[1;32m    152\u001b[0m     \u001b[38;5;66;03m# Remove None values to avoid passing unnecessary parameters\u001b[39;00m\n\u001b[1;32m    153\u001b[0m     params \u001b[38;5;241m=\u001b[39m {k: v \u001b[38;5;28;01mfor\u001b[39;00m k, v \u001b[38;5;129;01min\u001b[39;00m params\u001b[38;5;241m.\u001b[39mitems() \u001b[38;5;28;01mif\u001b[39;00m v \u001b[38;5;129;01mis\u001b[39;00m \u001b[38;5;129;01mnot\u001b[39;00m \u001b[38;5;28;01mNone\u001b[39;00m}\n\u001b[0;32m--> 155\u001b[0m     response \u001b[38;5;241m=\u001b[39m \u001b[43mlitellm\u001b[49m\u001b[38;5;241;43m.\u001b[39;49m\u001b[43mcompletion\u001b[49m\u001b[43m(\u001b[49m\u001b[38;5;241;43m*\u001b[39;49m\u001b[38;5;241;43m*\u001b[39;49m\u001b[43mparams\u001b[49m\u001b[43m)\u001b[49m\n\u001b[1;32m    156\u001b[0m     \u001b[38;5;28;01mreturn\u001b[39;00m response[\u001b[38;5;124m\"\u001b[39m\u001b[38;5;124mchoices\u001b[39m\u001b[38;5;124m\"\u001b[39m][\u001b[38;5;241m0\u001b[39m][\u001b[38;5;124m\"\u001b[39m\u001b[38;5;124mmessage\u001b[39m\u001b[38;5;124m\"\u001b[39m][\u001b[38;5;124m\"\u001b[39m\u001b[38;5;124mcontent\u001b[39m\u001b[38;5;124m\"\u001b[39m]\n\u001b[1;32m    157\u001b[0m \u001b[38;5;28;01mexcept\u001b[39;00m \u001b[38;5;167;01mException\u001b[39;00m \u001b[38;5;28;01mas\u001b[39;00m e:\n",
      "File \u001b[0;32m~/anaconda3/envs/python3/lib/python3.10/site-packages/litellm/utils.py:1013\u001b[0m, in \u001b[0;36mclient.<locals>.wrapper\u001b[0;34m(*args, **kwargs)\u001b[0m\n\u001b[1;32m   1009\u001b[0m \u001b[38;5;28;01mif\u001b[39;00m logging_obj:\n\u001b[1;32m   1010\u001b[0m     logging_obj\u001b[38;5;241m.\u001b[39mfailure_handler(\n\u001b[1;32m   1011\u001b[0m         e, traceback_exception, start_time, end_time\n\u001b[1;32m   1012\u001b[0m     )  \u001b[38;5;66;03m# DO NOT MAKE THREADED - router retry fallback relies on this!\u001b[39;00m\n\u001b[0;32m-> 1013\u001b[0m \u001b[38;5;28;01mraise\u001b[39;00m e\n",
      "File \u001b[0;32m~/anaconda3/envs/python3/lib/python3.10/site-packages/litellm/utils.py:903\u001b[0m, in \u001b[0;36mclient.<locals>.wrapper\u001b[0;34m(*args, **kwargs)\u001b[0m\n\u001b[1;32m    901\u001b[0m         print_verbose(\u001b[38;5;124mf\u001b[39m\u001b[38;5;124m\"\u001b[39m\u001b[38;5;124mError while checking max token limit: \u001b[39m\u001b[38;5;132;01m{\u001b[39;00m\u001b[38;5;28mstr\u001b[39m(e)\u001b[38;5;132;01m}\u001b[39;00m\u001b[38;5;124m\"\u001b[39m)\n\u001b[1;32m    902\u001b[0m \u001b[38;5;66;03m# MODEL CALL\u001b[39;00m\n\u001b[0;32m--> 903\u001b[0m result \u001b[38;5;241m=\u001b[39m \u001b[43moriginal_function\u001b[49m\u001b[43m(\u001b[49m\u001b[38;5;241;43m*\u001b[39;49m\u001b[43margs\u001b[49m\u001b[43m,\u001b[49m\u001b[43m \u001b[49m\u001b[38;5;241;43m*\u001b[39;49m\u001b[38;5;241;43m*\u001b[39;49m\u001b[43mkwargs\u001b[49m\u001b[43m)\u001b[49m\n\u001b[1;32m    904\u001b[0m end_time \u001b[38;5;241m=\u001b[39m datetime\u001b[38;5;241m.\u001b[39mdatetime\u001b[38;5;241m.\u001b[39mnow()\n\u001b[1;32m    905\u001b[0m \u001b[38;5;28;01mif\u001b[39;00m \u001b[38;5;124m\"\u001b[39m\u001b[38;5;124mstream\u001b[39m\u001b[38;5;124m\"\u001b[39m \u001b[38;5;129;01min\u001b[39;00m kwargs \u001b[38;5;129;01mand\u001b[39;00m kwargs[\u001b[38;5;124m\"\u001b[39m\u001b[38;5;124mstream\u001b[39m\u001b[38;5;124m\"\u001b[39m] \u001b[38;5;129;01mis\u001b[39;00m \u001b[38;5;28;01mTrue\u001b[39;00m:\n",
      "File \u001b[0;32m~/anaconda3/envs/python3/lib/python3.10/site-packages/litellm/main.py:2999\u001b[0m, in \u001b[0;36mcompletion\u001b[0;34m(model, messages, timeout, temperature, top_p, n, stream, stream_options, stop, max_completion_tokens, max_tokens, modalities, audio, presence_penalty, frequency_penalty, logit_bias, user, response_format, seed, tools, tool_choice, logprobs, top_logprobs, parallel_tool_calls, deployment_id, extra_headers, functions, function_call, base_url, api_version, api_key, model_list, **kwargs)\u001b[0m\n\u001b[1;32m   2996\u001b[0m     \u001b[38;5;28;01mreturn\u001b[39;00m response\n\u001b[1;32m   2997\u001b[0m \u001b[38;5;28;01mexcept\u001b[39;00m \u001b[38;5;167;01mException\u001b[39;00m \u001b[38;5;28;01mas\u001b[39;00m e:\n\u001b[1;32m   2998\u001b[0m     \u001b[38;5;66;03m## Map to OpenAI Exception\u001b[39;00m\n\u001b[0;32m-> 2999\u001b[0m     \u001b[38;5;28;01mraise\u001b[39;00m \u001b[43mexception_type\u001b[49m\u001b[43m(\u001b[49m\n\u001b[1;32m   3000\u001b[0m \u001b[43m        \u001b[49m\u001b[43mmodel\u001b[49m\u001b[38;5;241;43m=\u001b[39;49m\u001b[43mmodel\u001b[49m\u001b[43m,\u001b[49m\n\u001b[1;32m   3001\u001b[0m \u001b[43m        \u001b[49m\u001b[43mcustom_llm_provider\u001b[49m\u001b[38;5;241;43m=\u001b[39;49m\u001b[43mcustom_llm_provider\u001b[49m\u001b[43m,\u001b[49m\n\u001b[1;32m   3002\u001b[0m \u001b[43m        \u001b[49m\u001b[43moriginal_exception\u001b[49m\u001b[38;5;241;43m=\u001b[39;49m\u001b[43me\u001b[49m\u001b[43m,\u001b[49m\n\u001b[1;32m   3003\u001b[0m \u001b[43m        \u001b[49m\u001b[43mcompletion_kwargs\u001b[49m\u001b[38;5;241;43m=\u001b[39;49m\u001b[43margs\u001b[49m\u001b[43m,\u001b[49m\n\u001b[1;32m   3004\u001b[0m \u001b[43m        \u001b[49m\u001b[43mextra_kwargs\u001b[49m\u001b[38;5;241;43m=\u001b[39;49m\u001b[43mkwargs\u001b[49m\u001b[43m,\u001b[49m\n\u001b[1;32m   3005\u001b[0m \u001b[43m    \u001b[49m\u001b[43m)\u001b[49m\n",
      "File \u001b[0;32m~/anaconda3/envs/python3/lib/python3.10/site-packages/litellm/litellm_core_utils/exception_mapping_utils.py:2116\u001b[0m, in \u001b[0;36mexception_type\u001b[0;34m(model, original_exception, custom_llm_provider, completion_kwargs, extra_kwargs)\u001b[0m\n\u001b[1;32m   2114\u001b[0m \u001b[38;5;28;01mif\u001b[39;00m exception_mapping_worked:\n\u001b[1;32m   2115\u001b[0m     \u001b[38;5;28msetattr\u001b[39m(e, \u001b[38;5;124m\"\u001b[39m\u001b[38;5;124mlitellm_response_headers\u001b[39m\u001b[38;5;124m\"\u001b[39m, litellm_response_headers)\n\u001b[0;32m-> 2116\u001b[0m     \u001b[38;5;28;01mraise\u001b[39;00m e\n\u001b[1;32m   2117\u001b[0m \u001b[38;5;28;01melse\u001b[39;00m:\n\u001b[1;32m   2118\u001b[0m     \u001b[38;5;28;01mfor\u001b[39;00m error_type \u001b[38;5;129;01min\u001b[39;00m litellm\u001b[38;5;241m.\u001b[39mLITELLM_EXCEPTION_TYPES:\n",
      "File \u001b[0;32m~/anaconda3/envs/python3/lib/python3.10/site-packages/litellm/litellm_core_utils/exception_mapping_utils.py:837\u001b[0m, in \u001b[0;36mexception_type\u001b[0;34m(model, original_exception, custom_llm_provider, completion_kwargs, extra_kwargs)\u001b[0m\n\u001b[1;32m    835\u001b[0m \u001b[38;5;28;01melif\u001b[39;00m original_exception\u001b[38;5;241m.\u001b[39mstatus_code \u001b[38;5;241m==\u001b[39m \u001b[38;5;241m400\u001b[39m:\n\u001b[1;32m    836\u001b[0m     exception_mapping_worked \u001b[38;5;241m=\u001b[39m \u001b[38;5;28;01mTrue\u001b[39;00m\n\u001b[0;32m--> 837\u001b[0m     \u001b[38;5;28;01mraise\u001b[39;00m BadRequestError(\n\u001b[1;32m    838\u001b[0m         message\u001b[38;5;241m=\u001b[39m\u001b[38;5;124mf\u001b[39m\u001b[38;5;124m\"\u001b[39m\u001b[38;5;124mBedrockException - \u001b[39m\u001b[38;5;132;01m{\u001b[39;00moriginal_exception\u001b[38;5;241m.\u001b[39mmessage\u001b[38;5;132;01m}\u001b[39;00m\u001b[38;5;124m\"\u001b[39m,\n\u001b[1;32m    839\u001b[0m         llm_provider\u001b[38;5;241m=\u001b[39m\u001b[38;5;124m\"\u001b[39m\u001b[38;5;124mbedrock\u001b[39m\u001b[38;5;124m\"\u001b[39m,\n\u001b[1;32m    840\u001b[0m         model\u001b[38;5;241m=\u001b[39mmodel,\n\u001b[1;32m    841\u001b[0m         response\u001b[38;5;241m=\u001b[39moriginal_exception\u001b[38;5;241m.\u001b[39mresponse,\n\u001b[1;32m    842\u001b[0m     )\n\u001b[1;32m    843\u001b[0m \u001b[38;5;28;01melif\u001b[39;00m original_exception\u001b[38;5;241m.\u001b[39mstatus_code \u001b[38;5;241m==\u001b[39m \u001b[38;5;241m404\u001b[39m:\n\u001b[1;32m    844\u001b[0m     exception_mapping_worked \u001b[38;5;241m=\u001b[39m \u001b[38;5;28;01mTrue\u001b[39;00m\n",
      "\u001b[0;31mBadRequestError\u001b[0m: litellm.BadRequestError: BedrockException - {\"message\":\"The model returned the following errors: messages: final assistant content cannot end with trailing whitespace\"}"
     ]
    }
   ],
   "source": [
    "airtel_crew.kickoff()"
   ]
  },
  {
   "cell_type": "code",
   "execution_count": null,
   "id": "2695bbec-fd97-4983-bdd4-afa2a2ce75f0",
   "metadata": {},
   "outputs": [],
   "source": []
  }
 ],
 "metadata": {
  "kernelspec": {
   "display_name": "conda_python3",
   "language": "python",
   "name": "conda_python3"
  },
  "language_info": {
   "codemirror_mode": {
    "name": "ipython",
    "version": 3
   },
   "file_extension": ".py",
   "mimetype": "text/x-python",
   "name": "python",
   "nbconvert_exporter": "python",
   "pygments_lexer": "ipython3",
   "version": "3.10.15"
  }
 },
 "nbformat": 4,
 "nbformat_minor": 5
}
