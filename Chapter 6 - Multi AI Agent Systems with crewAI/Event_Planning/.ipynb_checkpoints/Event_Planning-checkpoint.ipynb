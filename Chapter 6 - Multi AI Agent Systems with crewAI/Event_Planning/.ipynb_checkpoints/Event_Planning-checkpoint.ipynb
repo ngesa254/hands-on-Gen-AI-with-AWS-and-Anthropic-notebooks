{
 "cells": [
  {
   "cell_type": "markdown",
   "id": "b306bb37-8274-47bb-98b3-a7ea800cbe2c",
   "metadata": {},
   "source": [
    "# CH 6: Automate Event Planning\n",
    "\n",
    "In this lesson, you will learn more about Tasks."
   ]
  },
  {
   "cell_type": "code",
   "execution_count": null,
   "id": "a535fca1-f7c0-4538-982b-0bf6443a376b",
   "metadata": {},
   "outputs": [],
   "source": []
  }
 ],
 "metadata": {
  "kernelspec": {
   "display_name": "conda_pytorch_p310",
   "language": "python",
   "name": "conda_pytorch_p310"
  },
  "language_info": {
   "codemirror_mode": {
    "name": "ipython",
    "version": 3
   },
   "file_extension": ".py",
   "mimetype": "text/x-python",
   "name": "python",
   "nbconvert_exporter": "python",
   "pygments_lexer": "ipython3",
   "version": "3.10.14"
  }
 },
 "nbformat": 4,
 "nbformat_minor": 5
}
