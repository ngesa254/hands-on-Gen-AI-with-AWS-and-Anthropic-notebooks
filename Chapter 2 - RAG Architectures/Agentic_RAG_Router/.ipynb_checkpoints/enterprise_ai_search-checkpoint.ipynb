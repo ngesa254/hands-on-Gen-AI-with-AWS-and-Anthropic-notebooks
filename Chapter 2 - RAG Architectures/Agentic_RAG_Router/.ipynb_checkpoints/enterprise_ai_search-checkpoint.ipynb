{
 "cells": [
  {
   "cell_type": "markdown",
   "id": "1847aeb3-6208-4aac-864d-c2f302f45bcd",
   "metadata": {
    "tags": []
   },
   "source": [
    "# Enterprise AI Search (ICT CoE) \n",
    "\n",
    "Solution that empowers customer-facing teams to access the knowledge they need to respond to sales inquiries, support questions, and other client communication while on the go.\n",
    "\n",
    "-\tDevice Catalogue\n",
    "\n",
    "-\tProduct Catalogue - Cyber Security, Cloud, Applications - IoT\n",
    "\n",
    "-\tFinance Reporting\n",
    "\n",
    "-\tCustomer Support - Smart Water\n",
    "\n",
    "-\tProcurement\n",
    "\n",
    "-\tTender\n",
    "\n",
    "This Next-generation enterprise search will help you instantly find the answers you need."
   ]
  },
  {
   "cell_type": "markdown",
   "id": "f7ed49ae-e78c-4ab3-bf8a-92749481ac1d",
   "metadata": {
    "tags": []
   },
   "source": [
    "## Install"
   ]
  },
  {
   "cell_type": "code",
   "execution_count": 2,
   "id": "67b27e1b-3f19-4165-baff-7a2e565162b6",
   "metadata": {
    "tags": []
   },
   "outputs": [],
   "source": [
    "!pip install -qU  llama-index==0.10.64"
   ]
  },
  {
   "cell_type": "code",
   "execution_count": 3,
   "id": "70173573-f274-4558-af19-e9deebd6a177",
   "metadata": {
    "tags": []
   },
   "outputs": [],
   "source": [
    "!pip install -qU llama-index-core==0.10.64"
   ]
  },
  {
   "cell_type": "code",
   "execution_count": 4,
   "id": "b51b87af-5a02-4d53-84d5-2aa2a8a10b07",
   "metadata": {
    "tags": []
   },
   "outputs": [],
   "source": [
    "!pip install -qU  llama-index-llms-bedrock==0.1.12"
   ]
  },
  {
   "cell_type": "code",
   "execution_count": 5,
   "id": "34d33ff4-ce95-487b-94da-c18437deeae5",
   "metadata": {
    "tags": []
   },
   "outputs": [],
   "source": [
    "!pip install -qU llama-index-embeddings-huggingface==0.2.3"
   ]
  },
  {
   "cell_type": "markdown",
   "id": "139ce53f-dda4-42e6-8c24-3532bc43ff9a",
   "metadata": {},
   "source": [
    "## Setup"
   ]
  },
  {
   "cell_type": "code",
   "execution_count": 6,
   "id": "57941db6-e662-4060-8f33-11d87a413735",
   "metadata": {
    "tags": []
   },
   "outputs": [],
   "source": [
    "import os\n",
    "os.environ[\"TOKENIZERS_PARALLELISM\"] = \"false\""
   ]
  },
  {
   "cell_type": "code",
   "execution_count": 7,
   "id": "40d57732-aa1d-47c8-b0ec-15e1bca0d96d",
   "metadata": {
    "tags": []
   },
   "outputs": [],
   "source": [
    "import nest_asyncio\n",
    "\n",
    "nest_asyncio.apply()"
   ]
  },
  {
   "cell_type": "code",
   "execution_count": 8,
   "id": "10f50673-428e-4f41-80da-a9649b5ebe89",
   "metadata": {
    "tags": []
   },
   "outputs": [],
   "source": [
    "import os\n",
    "import logging\n",
    "import boto3\n",
    "\n",
    "from llama_index.core import SimpleDirectoryReader, ServiceContext\n",
    "\n",
    "from llama_index.core import SimpleKeywordTableIndex\n",
    "from llama_index.core import StorageContext, load_index_from_storage\n",
    "from llama_index.core import VectorStoreIndex,SummaryIndex\n",
    "\n",
    "from llama_index.llms.bedrock import Bedrock"
   ]
  },
  {
   "cell_type": "markdown",
   "id": "8feb233f-8335-48c3-aeb4-7324dc6ba5be",
   "metadata": {},
   "source": [
    "## LLM and embedding model configuration"
   ]
  },
  {
   "cell_type": "code",
   "execution_count": 9,
   "id": "81b35be3-5588-4a73-b5bf-cd33741a3066",
   "metadata": {
    "tags": []
   },
   "outputs": [],
   "source": [
    "instruct_mistral7b_id=\"mistral.mistral-7b-instruct-v0:2\"\n",
    "\n",
    "instruct_mixtral8x7b_id=\"mistral.mixtral-8x7b-instruct-v0:1\"\n",
    "mistral_large_2402_id=\"mistral.mistral-large-2402-v1:0\"\n",
    "titan_embeddings_g1=\"amazon.titan-embed-text-v1\"\n",
    "titan_text_embeddings_v2=\"amazon.titan-embed-text-v2:0\"\n",
    "\n",
    "\n",
    "DEFAULT_MODEL=instruct_mistral7b_id\n",
    "AWS_REGION=\"eu-west-1\"\n",
    "\n",
    "boto3_bedrock = boto3.client(\"bedrock-runtime\")\n",
    "\n",
    "model_kwargs_mistral = {\n",
    "    \"temperature\": 0.5,\n",
    "    \"top_p\": 0.9,\n",
    "    \"top_k\": 200,\n",
    "    \"max_tokens\": 8192  # Max response length\n",
    "}\n",
    "\n",
    "# Initialize the Mistral model to formulate final answer from search results\n",
    "llm = Bedrock(\n",
    "    model=DEFAULT_MODEL,\n",
    "    streaming=True,\n",
    "    client=boto3_bedrock,\n",
    "    model_kwargs=model_kwargs_mistral,\n",
    "    region_name=AWS_REGION\n",
    ")"
   ]
  },
  {
   "cell_type": "code",
   "execution_count": 10,
   "id": "c3bee553-de39-4da2-8dc8-c424cf71a1e7",
   "metadata": {
    "tags": []
   },
   "outputs": [
    {
     "data": {
      "application/vnd.jupyter.widget-view+json": {
       "model_id": "9dc3d1138c48454f912a8ceb8c0254cb",
       "version_major": 2,
       "version_minor": 0
      },
      "text/plain": [
       "modules.json:   0%|          | 0.00/349 [00:00<?, ?B/s]"
      ]
     },
     "metadata": {},
     "output_type": "display_data"
    },
    {
     "data": {
      "application/vnd.jupyter.widget-view+json": {
       "model_id": "5edf9bf58a444ea59cb6e76cfd41d97c",
       "version_major": 2,
       "version_minor": 0
      },
      "text/plain": [
       "config_sentence_transformers.json:   0%|          | 0.00/124 [00:00<?, ?B/s]"
      ]
     },
     "metadata": {},
     "output_type": "display_data"
    },
    {
     "data": {
      "application/vnd.jupyter.widget-view+json": {
       "model_id": "86e4d573e3394001a78aabe9d77f90e6",
       "version_major": 2,
       "version_minor": 0
      },
      "text/plain": [
       "README.md:   0%|          | 0.00/94.8k [00:00<?, ?B/s]"
      ]
     },
     "metadata": {},
     "output_type": "display_data"
    },
    {
     "data": {
      "application/vnd.jupyter.widget-view+json": {
       "model_id": "a954c2e2b2c64348953aebf00d76b1c4",
       "version_major": 2,
       "version_minor": 0
      },
      "text/plain": [
       "sentence_bert_config.json:   0%|          | 0.00/52.0 [00:00<?, ?B/s]"
      ]
     },
     "metadata": {},
     "output_type": "display_data"
    },
    {
     "data": {
      "application/vnd.jupyter.widget-view+json": {
       "model_id": "bc2d2659806d4b2ebdc39dbcab2b6b5a",
       "version_major": 2,
       "version_minor": 0
      },
      "text/plain": [
       "config.json:   0%|          | 0.00/743 [00:00<?, ?B/s]"
      ]
     },
     "metadata": {},
     "output_type": "display_data"
    },
    {
     "data": {
      "application/vnd.jupyter.widget-view+json": {
       "model_id": "1ea100ed311f44b3ac146d769d5f74b5",
       "version_major": 2,
       "version_minor": 0
      },
      "text/plain": [
       "model.safetensors:   0%|          | 0.00/133M [00:00<?, ?B/s]"
      ]
     },
     "metadata": {},
     "output_type": "display_data"
    },
    {
     "data": {
      "application/vnd.jupyter.widget-view+json": {
       "model_id": "604438a1894c41cb9284688ac3a804b6",
       "version_major": 2,
       "version_minor": 0
      },
      "text/plain": [
       "tokenizer_config.json:   0%|          | 0.00/366 [00:00<?, ?B/s]"
      ]
     },
     "metadata": {},
     "output_type": "display_data"
    },
    {
     "data": {
      "application/vnd.jupyter.widget-view+json": {
       "model_id": "07afbf2933854e23b6a81b3bd3375cf7",
       "version_major": 2,
       "version_minor": 0
      },
      "text/plain": [
       "vocab.txt:   0%|          | 0.00/232k [00:00<?, ?B/s]"
      ]
     },
     "metadata": {},
     "output_type": "display_data"
    },
    {
     "data": {
      "application/vnd.jupyter.widget-view+json": {
       "model_id": "c9286e36bdb248f7aefe3221d6170a48",
       "version_major": 2,
       "version_minor": 0
      },
      "text/plain": [
       "tokenizer.json:   0%|          | 0.00/711k [00:00<?, ?B/s]"
      ]
     },
     "metadata": {},
     "output_type": "display_data"
    },
    {
     "data": {
      "application/vnd.jupyter.widget-view+json": {
       "model_id": "d2e2516b0e82452ea5f3aa9b661e5251",
       "version_major": 2,
       "version_minor": 0
      },
      "text/plain": [
       "special_tokens_map.json:   0%|          | 0.00/125 [00:00<?, ?B/s]"
      ]
     },
     "metadata": {},
     "output_type": "display_data"
    },
    {
     "data": {
      "application/vnd.jupyter.widget-view+json": {
       "model_id": "36671bd348274b28b66168d8314b7901",
       "version_major": 2,
       "version_minor": 0
      },
      "text/plain": [
       "1_Pooling/config.json:   0%|          | 0.00/190 [00:00<?, ?B/s]"
      ]
     },
     "metadata": {},
     "output_type": "display_data"
    }
   ],
   "source": [
    "from llama_index.embeddings.huggingface import HuggingFaceEmbedding\n",
    "from llama_index.core import Settings\n",
    "\n",
    "embed_model = HuggingFaceEmbedding(model_name=\"BAAI/bge-small-en-v1.5\")\n",
    "\n",
    "Settings.llm = llm\n",
    "Settings.chunk_size = 512\n",
    "Settings.embed_model = embed_model"
   ]
  },
  {
   "cell_type": "markdown",
   "id": "3e708db5-3ff6-47b6-96be-0232891f888a",
   "metadata": {},
   "source": [
    "## Data loading and processing"
   ]
  },
  {
   "cell_type": "code",
   "execution_count": 11,
   "id": "7b7f9123-8630-4ab5-9f7e-714dd5b93d1b",
   "metadata": {
    "tags": []
   },
   "outputs": [],
   "source": [
    "import os\n",
    "\n",
    "# Path to your PDF directory\n",
    "pdf_directory = 'coe_data'\n",
    "\n",
    "# List all PDF files in the directory\n",
    "pdf_files = [file for file in os.listdir(pdf_directory) if file.endswith('.pdf')]\n",
    "\n",
    "# Create a Dictionary to hold the loaded documents\n",
    "loaded_documents = {}\n",
    "\n",
    "# Initialize a list to hold the titles of the PDFs\n",
    "pdf_titles = []\n",
    "\n",
    "# Function to convert a title to snake case\n",
    "def convert_to_snake_case(title):\n",
    "    return title.lower().replace(' ', '_')\n",
    "\n",
    "# Load each PDF file, convert the title to snake case, and store it in the dictionary\n",
    "for pdf_file in pdf_files:\n",
    "    \n",
    "    # Extract the title without the .pdf extension and convert to snake case\n",
    "    title = os.path.splitext(pdf_file)[0]\n",
    "    snake_case_title = convert_to_snake_case(title)\n",
    "    pdf_titles.append(snake_case_title)\n",
    "    \n",
    "    # Load the document using SimpleDirectoryReader\n",
    "    document_path = os.path.join(pdf_directory, pdf_file)\n",
    "    documents = SimpleDirectoryReader(input_files=[document_path]).load_data()\n",
    "    \n",
    "    # Store the loaded documents in the dictionary with the snake_case title as the key\n",
    "    loaded_documents[snake_case_title] = documents\n",
    "\n",
    "# Loaded_documents dictionary holds the content of each PDF file keyed by its title converted to snake case"
   ]
  },
  {
   "cell_type": "code",
   "execution_count": 12,
   "id": "b1dc8dd6-b479-4b4e-b0d4-152497366ada",
   "metadata": {
    "tags": []
   },
   "outputs": [
    {
     "data": {
      "text/plain": [
       "['how_to_sell_aws_services',\n",
       " 'endpoint_security_proposition_-_refresher_slides',\n",
       " 'telematics_offering_-_revised',\n",
       " 'how_to_sell_safaricom_cloud_&_hosting']"
      ]
     },
     "execution_count": 12,
     "metadata": {},
     "output_type": "execute_result"
    }
   ],
   "source": [
    "pdf_titles"
   ]
  },
  {
   "cell_type": "code",
   "execution_count": 13,
   "id": "59139a22-d217-47ab-b6a7-5f602cefaadb",
   "metadata": {
    "tags": []
   },
   "outputs": [],
   "source": [
    "from llama_index.core.agent import ReActAgent\n",
    "from llama_index.core import VectorStoreIndex, SummaryIndex\n",
    "from llama_index.core.tools import QueryEngineTool, ToolMetadata\n",
    "from llama_index.core.node_parser import SentenceSplitter\n",
    "\n",
    "node_parser = SentenceSplitter()\n",
    "\n",
    "# Build agents dictionary\n",
    "agents = {}\n",
    "\n",
    "# Iterate over the snake_case titles in loaded_documents\n",
    "for snake_case_title in loaded_documents.keys():\n",
    "    # Retrieve the documents from the dictionary\n",
    "    documents = loaded_documents[snake_case_title]\n",
    "    \n",
    "    # nodes = node_parser.get_nodes_from_documents(documents)\n",
    "      \n",
    "    if not os.path.exists(f\"./coe_multi/{snake_case_title}\"):\n",
    "        # build vector index\n",
    "        vector_index = VectorStoreIndex(documents)\n",
    "        vector_index.storage_context.persist(\n",
    "        persist_dir=f\"./coe_multi/{snake_case_title}\"\n",
    "        )\n",
    "    else:\n",
    "        vector_index = load_index_from_storage(\n",
    "        StorageContext.from_defaults(persist_dir=f\"./coe_multi/{snake_case_title}\"),\n",
    "        )       \n",
    "        \n",
    "    # Build vector index\n",
    "    # vector_index = VectorStoreIndex.from_documents(documents)\n",
    "    \n",
    "    # Build summary index\n",
    "    summary_index = SummaryIndex.from_documents(documents)\n",
    "    \n",
    "    # Define query engines\n",
    "    vector_query_engine = vector_index.as_query_engine()\n",
    "    summary_query_engine = summary_index.as_query_engine()\n",
    "\n",
    "    # Define tools\n",
    "    query_engine_tools = [\n",
    "        QueryEngineTool(\n",
    "            query_engine=vector_query_engine,\n",
    "            metadata=ToolMetadata(\n",
    "                name=\"vector_tool\",\n",
    "                description=(\n",
    "                    f\"Useful for retrieving specific context from {snake_case_title}\"\n",
    "                ),\n",
    "            ),\n",
    "        ),\n",
    "        QueryEngineTool(\n",
    "            query_engine=summary_query_engine,\n",
    "            metadata=ToolMetadata(\n",
    "                name=\"summary_tool\",\n",
    "                description=(\n",
    "                    \"Useful for summarization questions related to\"\n",
    "                    f\" {snake_case_title}\"\n",
    "                ),\n",
    "            ),\n",
    "        ),\n",
    "    ]\n",
    "\n",
    "    # Build agent\n",
    "    agent = ReActAgent.from_tools(\n",
    "        query_engine_tools,\n",
    "        llm=llm,  \n",
    "        verbose=True,\n",
    "            system_prompt=f\"\"\"\\\n",
    "You are a specialized agent designed to answer queries about the {snake_case_title}.\n",
    "You must ALWAYS use at least one of the tools provided when answering a question; do NOT rely on prior knowledge.\\\n",
    "\"\"\",\n",
    "    )\n",
    "\n",
    "    # Store the agent in the dictionary with the snake_case title as the key\n",
    "    agents[snake_case_title] = agent\n"
   ]
  },
  {
   "cell_type": "markdown",
   "id": "ae13b1ba-69ae-4c17-a376-62f7293c6509",
   "metadata": {},
   "source": [
    "## Define IndexNode for each of these Agents"
   ]
  },
  {
   "cell_type": "code",
   "execution_count": 14,
   "id": "76c4aac5-cbac-401a-b722-b2134dfdac4f",
   "metadata": {
    "tags": []
   },
   "outputs": [],
   "source": [
    "from llama_index.core.schema import IndexNode\n",
    "\n",
    "# Define top-level nodes\n",
    "objects = []\n",
    "\n",
    "for snake_case_title in loaded_documents.keys():\n",
    "    # Define a summary for each document\n",
    "    document_summary = (\n",
    "        f\"This content contains information related to {snake_case_title.replace('_', ' ')}. \"\n",
    "        \"Use this index if you need to lookup specific facts about \"\n",
    "        f\"{snake_case_title.replace('_', ' ')}.\\nDo not use this index if you want to analyze \"\n",
    "        \"multiple topics.\"\n",
    "    )\n",
    "    \n",
    "    # Define the index node that links to these agents\n",
    "    node = IndexNode(\n",
    "        text=document_summary, index_id=snake_case_title, obj=agents[snake_case_title]\n",
    "    )\n",
    "    objects.append(node)\n"
   ]
  },
  {
   "cell_type": "code",
   "execution_count": 15,
   "id": "bf2b69f4-2519-4916-b6a0-6ad0350fadc5",
   "metadata": {
    "tags": []
   },
   "outputs": [],
   "source": [
    "vector_index = VectorStoreIndex(\n",
    "    objects=objects,\n",
    ")\n",
    "query_engine = vector_index.as_query_engine(similarity_top_k=1, verbose=True)"
   ]
  },
  {
   "cell_type": "markdown",
   "id": "b1aba48c-f536-4421-9f57-399f4e56f966",
   "metadata": {},
   "source": [
    "## Test Queries\n",
    "Should choose a vector tool/ summary tool for a specific agent based on the query."
   ]
  },
  {
   "cell_type": "code",
   "execution_count": 16,
   "id": "acd4203b-1704-4dbf-93ff-b5c2076ac6f6",
   "metadata": {
    "tags": []
   },
   "outputs": [
    {
     "name": "stdout",
     "output_type": "stream",
     "text": [
      "\u001b[1;3;38;2;11;159;203mRetrieval entering telematics_offering_-_revised: ReActAgent\n",
      "\u001b[0m\u001b[1;3;38;2;237;90;200mRetrieving from object ReActAgent with query What is the Safaricom Telematics?\n",
      "\u001b[0m> Running step f19bdc04-fa64-42f2-b00f-fc0637c3db7a. Step input: What is the Safaricom Telematics?\n",
      "\u001b[1;3;38;5;200mThought: The current language of the user is: English. I need to use a tool to help me answer the question.\n",
      "Action: vector_tool\n",
      "Action Input: {'input': 'Safaricom Telematics'}\n",
      "\u001b[0m\u001b[1;3;34mObservation:  Safaricom Telematics is a service offering that provides vehicle management solutions using telematics technology. The details of this offering, including its coverage, can be found in the document \"Telematics Offering - Revised.pdf\" on page 1 and page 6.\n",
      "\u001b[0m> Running step 6901934e-3e86-43b3-906f-c4ac8398443b. Step input: None\n",
      "\u001b[1;3;38;5;200mThought: I can answer without using any more tools. I'll use the user's language to answer\n",
      "Answer: Safaricom Telematics is a service offering that provides vehicle management solutions using telematics technology. For more details, you can refer to the document \"Telematics Offering - Revised.pdf\" on pages 1 and 6.\n",
      "\u001b[0m"
     ]
    }
   ],
   "source": [
    "# should use Telematics agent -> vector tool\n",
    "response = query_engine.query(\"What is the Safaricom Telematics?\")"
   ]
  },
  {
   "cell_type": "code",
   "execution_count": 17,
   "id": "0b187995-5e39-42a7-9fee-f09a676d4cbb",
   "metadata": {
    "tags": []
   },
   "outputs": [
    {
     "name": "stdout",
     "output_type": "stream",
     "text": [
      "\u001b[1;3;38;2;11;159;203mRetrieval entering endpoint_security_proposition_-_refresher_slides: ReActAgent\n",
      "\u001b[0m\u001b[1;3;38;2;237;90;200mRetrieving from object ReActAgent with query Why Endpoint Security?\n",
      "\u001b[0m> Running step 8904e0b4-50f3-4104-98e3-02b7ea287e13. Step input: Why Endpoint Security?\n",
      "\u001b[1;3;38;5;200mThought: The current language of the user is: english. I need to use a tool to help me answer the question \"Why Endpoint Security?\".\n",
      "Action: summary_tool\n",
      "Action Input: {'input': 'Why Endpoint Security?'}\n",
      "\u001b[0m\u001b[1;3;34mObservation:  Endpoint security is essential for protecting devices like laptops, desktops, tablets, and smartphones from cyberattacks such as malware, ransomware, and unauthorized access. With the increasing use of mobile devices in enterprises, organizations are seeking effective solutions to secure and manage these devices to ensure data privacy and regulatory compliance. The need for endpoint security is further emphasized by the rise in remote work and bring-your-own-device (BYOD) policies, which expand the attack surface and increase the risk of data breaches. Additionally, malware and phishing attempts can compromise devices, leading to data breaches and productivity loss. Endpoint security solutions help prevent these threats and provide comprehensive protection for endpoints while other security measures, such as firewalls and intrusion detection systems, protect other parts of the network.\n",
      "\u001b[0m> Running step cfea303b-5391-4bcc-8ba7-4849e78edb76. Step input: None\n",
      "\u001b[1;3;38;5;200mThought: I can answer without using any more tools. I'll use the user's language to answer.\n",
      "Answer: Endpoint security is important because it protects devices like laptops, desktops, tablets, and smartphones from cyberattacks such as malware, ransomware, and unauthorized access. With the increasing use of mobile devices in enterprises, organizations need effective solutions to secure and manage these devices to ensure data privacy and regulatory compliance. The need for endpoint security is further emphasized by the rise in remote work and bring-your-own-device (BYOD) policies, which expand the attack surface and increase the risk of data breaches. Additionally, malware and phishing attempts can compromise devices, leading to data breaches and productivity loss. Endpoint security solutions help prevent these threats and provide comprehensive protection for endpoints while other security measures, such as firewalls and intrusion detection systems, protect other parts of the network.\n",
      "\u001b[0m"
     ]
    }
   ],
   "source": [
    "# should use End Point Srcurity agent -> vector tool\n",
    "response = query_engine.query(\"Why Endpoint Security?\")"
   ]
  },
  {
   "cell_type": "code",
   "execution_count": 18,
   "id": "18448a84-5ea4-4782-afb3-7b3a6ea3574a",
   "metadata": {
    "tags": []
   },
   "outputs": [
    {
     "name": "stdout",
     "output_type": "stream",
     "text": [
      "\u001b[1;3;38;2;11;159;203mRetrieval entering how_to_sell_safaricom_cloud_&_hosting: ReActAgent\n",
      "\u001b[0m\u001b[1;3;38;2;237;90;200mRetrieving from object ReActAgent with query What have we got to say about Safaricom Cloud & Hosting Services?\n",
      "\u001b[0m> Running step a26a2fcb-2e52-474f-bc50-ce76329946c4. Step input: What have we got to say about Safaricom Cloud & Hosting Services?\n",
      "\u001b[1;3;38;5;200mThought: The current language of the user is: English. I need to use a tool to help me retrieve specific context about Safaricom Cloud & Hosting Services.\n",
      "Action: vector_tool\n",
      "Action Input: {'input': 'Safaricom Cloud & Hosting Services'}\n",
      "\u001b[0m\u001b[1;3;34mObservation:  Safaricom Cloud & Hosting Services offer enterprise-class solutions that enable organizations to manage IT infrastructure growth and take advantage of a more flexible and cost-efficient IT infrastructure. They provide a range of services including co-location, private cloud, flexible computing, storage, and security. Co-location offers secure data center resources for a predictable monthly rental, while private cloud provides a dedicated, automated, and self-service IT infrastructure. Flexible computing offers a secure multi-tenant infrastructure for hosted applications, and storage provides on-demand, secure storage services. Security services offer government-grade protection for networks and IT infrastructure. Professional services are also available to help assess and implement a more streamlined, cost-effective IT infrastructure.\n",
      "\u001b[0m> Running step 44551a7c-8834-42e6-976b-dbfc4274d306. Step input: None\n",
      "\u001b[1;3;38;5;200mThought: I can answer the question without using any more tools. I'll use the user's language to answer.\n",
      "Answer: Safaricom Cloud & Hosting Services offer various enterprise-class solutions such as co-location, private cloud, flexible computing, storage, and security. Co-location provides secure data center resources, private cloud offers a dedicated IT infrastructure, flexible computing provides a secure multi-tenant infrastructure for hosted applications, storage offers on-demand secure storage services, and security services provide government-grade protection for networks and IT infrastructure. Professional services are also available to help assess and implement a more streamlined and cost-effective IT infrastructure.\n",
      "\u001b[0m"
     ]
    }
   ],
   "source": [
    "# should use Safaricom Cloud agent -> vector tool\n",
    "response = query_engine.query(\"What have we got to say about Safaricom Cloud & Hosting Services?\") "
   ]
  },
  {
   "cell_type": "code",
   "execution_count": 29,
   "id": "203c6d0b-ebcf-4a52-817c-1693283b109b",
   "metadata": {
    "tags": []
   },
   "outputs": [
    {
     "name": "stdout",
     "output_type": "stream",
     "text": [
      "\u001b[1;3;38;2;11;159;203mRetrieval entering endpoint_security_proposition_-_refresher_slides: ReActAgent\n",
      "\u001b[0m\u001b[1;3;38;2;237;90;200mRetrieving from object ReActAgent with query Why Endpoint Security – COBO & COPE\n",
      "\u001b[0m> Running step b23007a5-987a-45a3-874e-1189a21aed3f. Step input: Why Endpoint Security – COBO & COPE\n",
      "\u001b[1;3;38;5;200mThought: The current language of the user is: english. I need to use a vector_tool to help me understand the context of the question before I can determine which tool to use next.\n",
      "Action: vector_tool\n",
      "Action Input: {'input': 'Why Endpoint Security – COBO & COPE'}\n",
      "\u001b[0m\u001b[1;3;34mObservation:  Endpoint security is essential in today's business environment due to the increasing use of mobile devices in enterprises, particularly with the Bring Your Own Device (BYOD) trend and remote work arrangements. These factors expand the attack surface and make it crucial to secure and manage devices to maintain data privacy and regulatory compliance. Endpoint security solutions help protect against data breaches caused by malware and phishing attempts, which can lead to costly damages and productivity loss. Effective endpoint security solutions should have the ability to detect new applications that may contain malware, prevent users from accessing malicious websites, make it easier to monitor endpoint activity, integrate with other security tools, and protect devices even when they are offline.\n",
      "\u001b[0m> Running step 3d0e3430-3f23-4fb0-8895-a3644991e4de. Step input: None\n",
      "\u001b[1;3;38;5;200mThought: I can answer the question without using any more tools. I'll use the user's language to answer\n",
      "Answer: Endpoint Security – COBO (Corporate Owned, Business Only) and COPE (Corporate Owned Personally Enabled) are two endpoint security strategies used by organizations to manage and secure devices in their network. COBO refers to devices that are owned, managed, and used exclusively for business purposes. COPE, on the other hand, refers to devices that are owned by employees but are used for both personal and business purposes. Both strategies aim to ensure data privacy and security while enabling productivity and flexibility. The use of endpoint security solutions, as mentioned in the observation, is crucial for both strategies to protect against potential threats and maintain regulatory compliance.\n",
      "\u001b[0m"
     ]
    }
   ],
   "source": [
    "# should use How to sell AWS End Services agent -> vector tool\n",
    "response = query_engine.query(\"Why Endpoint Security – COBO & COPE\") "
   ]
  },
  {
   "cell_type": "code",
   "execution_count": 19,
   "id": "13c69a21-f44c-4228-ba28-726995ae41cb",
   "metadata": {
    "tags": []
   },
   "outputs": [
    {
     "name": "stdout",
     "output_type": "stream",
     "text": [
      "\u001b[1;3;38;2;11;159;203mRetrieval entering how_to_sell_aws_services: ReActAgent\n",
      "\u001b[0m\u001b[1;3;38;2;237;90;200mRetrieving from object ReActAgent with query How can public cloud help businesses?\n",
      "\u001b[0m> Running step 7efb7eb7-a559-4a14-892a-a332407ee1e6. Step input: How can public cloud help businesses?\n",
      "\u001b[1;3;38;5;200mThought: The current language of the user is: English. I need to use a tool to help me answer the question.\n",
      "Action: summary_tool\n",
      "Action Input: {'input': 'How can public cloud help businesses?'}\n",
      "\u001b[0m\u001b[1;3;34mObservation:  Public cloud can help businesses in several ways. It offers infrastructure that can be easily scaled up and down as demand changes, providing specific performance and availability required by applications. Public clouds enable businesses to deliver results faster, cheaper, and with higher quality, giving them a competitive edge and enabling them to adapt and get to market quickly. They provide consistent services globally, enabling businesses to easily deploy pre-built, consistent services, server images, application services, or entire application landscapes using design patterns, saving time and costs. Public clouds enable an OpEx-based cost model where customers only pay for what they use, with flexible commercial models. They also offer lower risk through managed services and simplify IT operations with cloud management tools.\n",
      "\u001b[0m> Running step 593f3834-4bbe-4d2b-9dca-4a82683c5e89. Step input: None\n",
      "\u001b[1;3;38;5;200mThought: I can answer without using any more tools. I'll use the user's language to answer\n",
      "Answer: Public cloud can help businesses in several ways. It offers scalable infrastructure that can be easily adjusted to changing demand, providing the specific performance and availability required by applications. Public clouds enable businesses to deliver results faster, cheaper, and with higher quality, giving them a competitive edge and enabling them to adapt and get to market quickly. They provide consistent services globally, enabling businesses to easily deploy pre-built, consistent services, server images, application services, or entire application landscapes using design patterns, saving time and costs. Public clouds enable an OpEx-based cost model where customers only pay for what they use, with flexible commercial models. They also offer lower risk through managed services and simplify IT operations with cloud management tools.\n",
      "\u001b[0m"
     ]
    }
   ],
   "source": [
    "# should use How to sell AWS End Services agent -> vector tool\n",
    "response = query_engine.query(\"How can public cloud help businesses?\") "
   ]
  },
  {
   "cell_type": "code",
   "execution_count": 20,
   "id": "9794869a-3ec9-4b35-8a30-9926bc205ede",
   "metadata": {
    "tags": []
   },
   "outputs": [
    {
     "data": {
      "text/plain": [
       "' Public cloud provides businesses with scalable infrastructure that can be easily adjusted to meet changing demands. It offers consistent services globally, enabling faster and cheaper delivery of results with higher quality. The pay-as-you-go cost model allows businesses to only pay for what they use, while managed services and cloud management tools simplify IT operations.'"
      ]
     },
     "execution_count": 20,
     "metadata": {},
     "output_type": "execute_result"
    }
   ],
   "source": [
    "response.response"
   ]
  },
  {
   "cell_type": "code",
   "execution_count": 21,
   "id": "684ed8b4-fb9c-4da3-98cc-53cf4ab9ae8d",
   "metadata": {
    "tags": []
   },
   "outputs": [],
   "source": [
    "## Persisiting on Disk\n",
    "## Convert fles in py for deployment\n",
    "## Improve Streamlit app - include audio and clear\n",
    "## Add a reranker\n",
    "## Add sentece splitters for efficient indexing, improved context understanding, better query matching, flexibility in retrieval strategies, and scalability. "
   ]
  },
  {
   "cell_type": "code",
   "execution_count": 30,
   "id": "b4cf9b55-32ba-4acc-8c54-e6237e770e3b",
   "metadata": {
    "tags": []
   },
   "outputs": [
    {
     "name": "stdout",
     "output_type": "stream",
     "text": [
      "\u001b[1;3;38;2;11;159;203mRetrieval entering how_to_sell_safaricom_cloud_&_hosting: ReActAgent\n",
      "\u001b[0m\u001b[1;3;38;2;237;90;200mRetrieving from object ReActAgent with query CEBO in Cloud?\n",
      "\u001b[0m> Running step b637626e-f14d-427a-87ad-bb0cc4223d1a. Step input: CEBO in Cloud?\n",
      "\u001b[1;3;38;5;200mThought: The user is asking about CEBO in the context of Safaricom Cloud. I need to use the vector_tool to retrieve specific context about CEBO in Safaricom Cloud.\n",
      "Action: vector_tool\n",
      "Action Input: {'input': 'CEBO in Safaricom Cloud'}\n",
      "\u001b[0m\u001b[1;3;34mObservation:  CEBO, which stands for Cloud and Business Operations, is a service offering by Safaricom that provides enterprise-class cloud and hosting solutions to organizations. The service enables businesses to manage their growth in computing and data while taking advantage of a more flexible and cost-efficient IT infrastructure. Safaricom offers various solutions under CEBO, including Co-location, Private Cloud, Flexible Computing, Storage, and Security. These solutions aim to help businesses reduce IT infrastructure costs, improve service agility, ensure security, and provide professional services for assessing and implementing IT infrastructure needs.\n",
      "\u001b[0m> Running step 301b5bef-5a53-48bb-a05d-b599943e92e1. Step input: None\n",
      "\u001b[1;3;38;5;200mThought: I can answer the question without using any more tools. I'll use the user's language to answer\n",
      "Answer: CEBO, in the context of Safaricom, is a service offering that provides cloud and hosting solutions for businesses. It includes offerings like Co-location, Private Cloud, Flexible Computing, Storage, and Security. These services aim to help businesses reduce IT infrastructure costs, improve service agility, ensure security, and provide professional services for assessing and implementing IT infrastructure needs.\n",
      "\u001b[0m"
     ]
    }
   ],
   "source": [
    "# should use How to sell AWS End Services agent -> vector tool\n",
    "response = query_engine.query(\"CEBO in Cloud?\")"
   ]
  },
  {
   "cell_type": "code",
   "execution_count": 32,
   "id": "cde68d84-fd07-4120-b3bc-f4c7ab14a0d3",
   "metadata": {
    "tags": []
   },
   "outputs": [
    {
     "name": "stdout",
     "output_type": "stream",
     "text": [
      "\u001b[1;3;38;2;11;159;203mRetrieval entering telematics_offering_-_revised: ReActAgent\n",
      "\u001b[0m\u001b[1;3;38;2;237;90;200mRetrieving from object ReActAgent with query CEBO in Telematics?\n",
      "\u001b[0m> Running step 269080a6-1f04-4802-9a4f-34bfbe79fb94. Step input: CEBO in Telematics?\n",
      "\u001b[1;3;38;5;200mThought: The current language of the user is: english. I need to use a tool to help me understand the context of CEBO in the context of telematics.\n",
      "Action: vector_tool\n",
      "Action Input: {'input': 'CEBO in Telematics?'}\n",
      "\u001b[0m\u001b[1;3;34mObservation:  CEBO, which stands for Centralized Business Operations, is a concept that refers to managing and coordinating various business functions and processes from a single, centralized location. In the context of Telematics, CEBO could potentially be used to manage and analyze data from multiple vehicles or fleets in real-time, providing insights and optimizing operations. However, without additional context from the provided document, it is impossible to determine if CEBO is specifically mentioned or implemented in the Telematics offering discussed in the document.\n",
      "\u001b[0m> Running step 2a85c493-4b40-4aa8-9675-9950f1cb2bd1. Step input: None\n",
      "\u001b[1;3;38;5;200mThought: I can answer without using any more tools. I'll use the user's language to answer.\n",
      "Answer: CEBO, or Centralized Business Operations, is a concept that can be applied to Telematics to manage and analyze data from multiple vehicles or fleets in real-time, providing insights and optimizing operations. However, without additional context from the document, it is impossible to determine if CEBO is specifically mentioned or implemented in the Telematics offering discussed in the document.\n",
      "\u001b[0m"
     ]
    }
   ],
   "source": [
    "# should use How to sell AWS End Services agent -> vector tool\n",
    "response = query_engine.query(\"CEBO in Telematics?\")"
   ]
  },
  {
   "cell_type": "code",
   "execution_count": 2,
   "id": "b66ed938-f9d1-4a0f-ad06-f82c05532af7",
   "metadata": {
    "tags": []
   },
   "outputs": [],
   "source": [
    "## TODO: Add get_embedding as a Lamda function that gets \n",
    "#triggered when new docs are added to sharepoint / S3 bucket. New embeddings created\n",
    "#Add sentence splitter\n",
    "## Add Memory\n",
    "\n",
    "# https://docs.llamaindex.ai/en/stable/api_reference/node_parsers/sentence_splitter/"
   ]
  },
  {
   "cell_type": "code",
   "execution_count": null,
   "id": "88d31b89-c20d-4bc6-ace0-39ccbb203ad3",
   "metadata": {},
   "outputs": [],
   "source": []
  }
 ],
 "metadata": {
  "kernelspec": {
   "display_name": "conda_pytorch_p310",
   "language": "python",
   "name": "conda_pytorch_p310"
  },
  "language_info": {
   "codemirror_mode": {
    "name": "ipython",
    "version": 3
   },
   "file_extension": ".py",
   "mimetype": "text/x-python",
   "name": "python",
   "nbconvert_exporter": "python",
   "pygments_lexer": "ipython3",
   "version": "3.10.14"
  }
 },
 "nbformat": 4,
 "nbformat_minor": 5
}
